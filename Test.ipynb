{
  "nbformat": 4,
  "nbformat_minor": 0,
  "metadata": {
    "colab": {
      "name": "Untitled166.ipynb",
      "provenance": [],
      "authorship_tag": "ABX9TyONJeaHMHbwqptevcaxqks7",
      "include_colab_link": true
    },
    "kernelspec": {
      "name": "python3",
      "display_name": "Python 3"
    },
    "language_info": {
      "name": "python"
    },
    "accelerator": "GPU"
  },
  "cells": [
    {
      "cell_type": "markdown",
      "metadata": {
        "id": "view-in-github",
        "colab_type": "text"
      },
      "source": [
        "<a href=\"https://colab.research.google.com/github/lephuocdat2000/AI-Tempo-Run/blob/main/Test.ipynb\" target=\"_parent\"><img src=\"https://colab.research.google.com/assets/colab-badge.svg\" alt=\"Open In Colab\"/></a>"
      ]
    },
    {
      "cell_type": "code",
      "metadata": {
        "colab": {
          "base_uri": "https://localhost:8080/"
        },
        "id": "nSVCELIZfkSH",
        "outputId": "7cf01d66-0515-47e7-d730-f6b501fbde92"
      },
      "source": [
        "!git clone https://github.com/clovaai/CRAFT-pytorch"
      ],
      "execution_count": null,
      "outputs": [
        {
          "output_type": "stream",
          "text": [
            "Cloning into 'CRAFT-pytorch'...\n",
            "remote: Enumerating objects: 56, done.\u001b[K\n",
            "remote: Total 56 (delta 0), reused 0 (delta 0), pack-reused 56\u001b[K\n",
            "Unpacking objects: 100% (56/56), done.\n"
          ],
          "name": "stdout"
        }
      ]
    },
    {
      "cell_type": "code",
      "metadata": {
        "colab": {
          "base_uri": "https://localhost:8080/"
        },
        "id": "pN4PEg_QfvkK",
        "outputId": "b242fe77-d680-4a82-a7b3-7a5bff879460"
      },
      "source": [
        "cd CRAFT-pytorch/"
      ],
      "execution_count": null,
      "outputs": [
        {
          "output_type": "stream",
          "text": [
            "/content/CRAFT-pytorch\n"
          ],
          "name": "stdout"
        }
      ]
    },
    {
      "cell_type": "code",
      "metadata": {
        "colab": {
          "base_uri": "https://localhost:8080/"
        },
        "id": "0AwzyLcQfyuF",
        "outputId": "f7113d4b-1cf2-45ff-dea0-119685cd25d8"
      },
      "source": [
        "ls"
      ],
      "execution_count": null,
      "outputs": [
        {
          "output_type": "stream",
          "text": [
            "\u001b[0m\u001b[01;34mbasenet\u001b[0m/         \u001b[01;34mfigures\u001b[0m/       LICENSE        requirements.txt\n",
            "\u001b[01;32mcraft.py\u001b[0m*        file_utils.py  \u001b[01;32mREADME.md\u001b[0m*     \u001b[01;32mtest.py\u001b[0m*\n",
            "\u001b[01;32mcraft_utils.py\u001b[0m*  imgproc.py     \u001b[01;32mrefinenet.py\u001b[0m*\n"
          ],
          "name": "stdout"
        }
      ]
    },
    {
      "cell_type": "code",
      "metadata": {
        "colab": {
          "base_uri": "https://localhost:8080/"
        },
        "id": "drsTSL7FfzXX",
        "outputId": "cd2ccf04-9391-47b5-a329-e321ccb8d839"
      },
      "source": [
        "!gdown --id 1Jk4eGD7crsqCCg9C9VjCLkMN3ze8kutZ"
      ],
      "execution_count": null,
      "outputs": [
        {
          "output_type": "stream",
          "text": [
            "Downloading...\n",
            "From: https://drive.google.com/uc?id=1Jk4eGD7crsqCCg9C9VjCLkMN3ze8kutZ\n",
            "To: /content/CRAFT-pytorch/craft_mlt_25k.pth\n",
            "83.2MB [00:02, 39.3MB/s]\n"
          ],
          "name": "stdout"
        }
      ]
    },
    {
      "cell_type": "code",
      "metadata": {
        "colab": {
          "base_uri": "https://localhost:8080/"
        },
        "id": "pAZExt3uf_WB",
        "outputId": "d5a0a657-519b-41b2-b7ae-8319e9a4a5d6"
      },
      "source": [
        "!pip install -r requirements.txt"
      ],
      "execution_count": null,
      "outputs": [
        {
          "output_type": "stream",
          "text": [
            "Collecting torch==0.4.1.post2\n",
            "  Downloading torch-0.4.1.post2-cp37-cp37m-manylinux1_x86_64.whl (519.5 MB)\n",
            "\u001b[K     |████████████████████████████████| 519.5 MB 22 kB/s \n",
            "\u001b[?25hCollecting torchvision==0.2.1\n",
            "  Downloading torchvision-0.2.1-py2.py3-none-any.whl (54 kB)\n",
            "\u001b[K     |████████████████████████████████| 54 kB 4.0 MB/s \n",
            "\u001b[?25hCollecting opencv-python==3.4.2.17\n",
            "  Downloading opencv_python-3.4.2.17-cp37-cp37m-manylinux1_x86_64.whl (25.0 MB)\n",
            "\u001b[K     |████████████████████████████████| 25.0 MB 100 kB/s \n",
            "\u001b[?25hCollecting scikit-image==0.14.2\n",
            "  Downloading scikit_image-0.14.2-cp37-cp37m-manylinux1_x86_64.whl (25.3 MB)\n",
            "\u001b[K     |████████████████████████████████| 25.3 MB 77 kB/s \n",
            "\u001b[?25hCollecting scipy==1.1.0\n",
            "  Downloading scipy-1.1.0-cp37-cp37m-manylinux1_x86_64.whl (31.2 MB)\n",
            "\u001b[K     |████████████████████████████████| 31.2 MB 55 kB/s \n",
            "\u001b[?25hRequirement already satisfied: numpy in /usr/local/lib/python3.7/dist-packages (from torchvision==0.2.1->-r requirements.txt (line 2)) (1.19.5)\n",
            "Requirement already satisfied: six in /usr/local/lib/python3.7/dist-packages (from torchvision==0.2.1->-r requirements.txt (line 2)) (1.15.0)\n",
            "Requirement already satisfied: pillow>=4.1.1 in /usr/local/lib/python3.7/dist-packages (from torchvision==0.2.1->-r requirements.txt (line 2)) (7.1.2)\n",
            "Requirement already satisfied: dask[array]>=1.0.0 in /usr/local/lib/python3.7/dist-packages (from scikit-image==0.14.2->-r requirements.txt (line 4)) (2.12.0)\n",
            "Requirement already satisfied: matplotlib>=2.0.0 in /usr/local/lib/python3.7/dist-packages (from scikit-image==0.14.2->-r requirements.txt (line 4)) (3.2.2)\n",
            "Requirement already satisfied: PyWavelets>=0.4.0 in /usr/local/lib/python3.7/dist-packages (from scikit-image==0.14.2->-r requirements.txt (line 4)) (1.1.1)\n",
            "Requirement already satisfied: networkx>=1.8 in /usr/local/lib/python3.7/dist-packages (from scikit-image==0.14.2->-r requirements.txt (line 4)) (2.5.1)\n",
            "Requirement already satisfied: cloudpickle>=0.2.1 in /usr/local/lib/python3.7/dist-packages (from scikit-image==0.14.2->-r requirements.txt (line 4)) (1.3.0)\n",
            "Requirement already satisfied: toolz>=0.7.3 in /usr/local/lib/python3.7/dist-packages (from dask[array]>=1.0.0->scikit-image==0.14.2->-r requirements.txt (line 4)) (0.11.1)\n",
            "Requirement already satisfied: pyparsing!=2.0.4,!=2.1.2,!=2.1.6,>=2.0.1 in /usr/local/lib/python3.7/dist-packages (from matplotlib>=2.0.0->scikit-image==0.14.2->-r requirements.txt (line 4)) (2.4.7)\n",
            "Requirement already satisfied: cycler>=0.10 in /usr/local/lib/python3.7/dist-packages (from matplotlib>=2.0.0->scikit-image==0.14.2->-r requirements.txt (line 4)) (0.10.0)\n",
            "Requirement already satisfied: kiwisolver>=1.0.1 in /usr/local/lib/python3.7/dist-packages (from matplotlib>=2.0.0->scikit-image==0.14.2->-r requirements.txt (line 4)) (1.3.1)\n",
            "Requirement already satisfied: python-dateutil>=2.1 in /usr/local/lib/python3.7/dist-packages (from matplotlib>=2.0.0->scikit-image==0.14.2->-r requirements.txt (line 4)) (2.8.1)\n",
            "Requirement already satisfied: decorator<5,>=4.3 in /usr/local/lib/python3.7/dist-packages (from networkx>=1.8->scikit-image==0.14.2->-r requirements.txt (line 4)) (4.4.2)\n",
            "Installing collected packages: torch, scipy, torchvision, scikit-image, opencv-python\n",
            "  Attempting uninstall: torch\n",
            "    Found existing installation: torch 1.9.0+cu102\n",
            "    Uninstalling torch-1.9.0+cu102:\n",
            "      Successfully uninstalled torch-1.9.0+cu102\n",
            "  Attempting uninstall: scipy\n",
            "    Found existing installation: scipy 1.4.1\n",
            "    Uninstalling scipy-1.4.1:\n",
            "      Successfully uninstalled scipy-1.4.1\n",
            "  Attempting uninstall: torchvision\n",
            "    Found existing installation: torchvision 0.10.0+cu102\n",
            "    Uninstalling torchvision-0.10.0+cu102:\n",
            "      Successfully uninstalled torchvision-0.10.0+cu102\n",
            "  Attempting uninstall: scikit-image\n",
            "    Found existing installation: scikit-image 0.16.2\n",
            "    Uninstalling scikit-image-0.16.2:\n",
            "      Successfully uninstalled scikit-image-0.16.2\n",
            "  Attempting uninstall: opencv-python\n",
            "    Found existing installation: opencv-python 4.1.2.30\n",
            "    Uninstalling opencv-python-4.1.2.30:\n",
            "      Successfully uninstalled opencv-python-4.1.2.30\n",
            "\u001b[31mERROR: pip's dependency resolver does not currently take into account all the packages that are installed. This behaviour is the source of the following dependency conflicts.\n",
            "torchtext 0.10.0 requires torch==1.9.0, but you have torch 0.4.1.post2 which is incompatible.\n",
            "pymc3 3.11.2 requires scipy>=1.2.0, but you have scipy 1.1.0 which is incompatible.\n",
            "plotnine 0.6.0 requires scipy>=1.2.0, but you have scipy 1.1.0 which is incompatible.\n",
            "fastai 1.0.61 requires torch>=1.0.0, but you have torch 0.4.1.post2 which is incompatible.\n",
            "albumentations 0.1.12 requires imgaug<0.2.7,>=0.2.5, but you have imgaug 0.2.9 which is incompatible.\u001b[0m\n",
            "Successfully installed opencv-python-3.4.2.17 scikit-image-0.14.2 scipy-1.1.0 torch-0.4.1.post2 torchvision-0.2.1\n"
          ],
          "name": "stdout"
        }
      ]
    },
    {
      "cell_type": "code",
      "metadata": {
        "colab": {
          "base_uri": "https://localhost:8080/"
        },
        "id": "oKkcFu86gC61",
        "outputId": "b1fc227e-ce42-4882-ae75-80063a84c529"
      },
      "source": [
        "!gdown --id 1vhq5t0qHBUkAkdsGGpv-8LCWutm0oWww"
      ],
      "execution_count": null,
      "outputs": [
        {
          "output_type": "stream",
          "text": [
            "Downloading...\n",
            "From: https://drive.google.com/uc?id=1vhq5t0qHBUkAkdsGGpv-8LCWutm0oWww\n",
            "To: /content/CRAFT-pytorch/data.zip\n",
            "15.0MB [00:00, 47.9MB/s]\n"
          ],
          "name": "stdout"
        }
      ]
    },
    {
      "cell_type": "code",
      "metadata": {
        "colab": {
          "base_uri": "https://localhost:8080/"
        },
        "id": "u2KoincJgF8j",
        "outputId": "80093b10-8c70-4000-fbf9-5a3208ad28b8"
      },
      "source": [
        "!unzip data.zip "
      ],
      "execution_count": null,
      "outputs": [
        {
          "output_type": "stream",
          "text": [
            "Archive:  data.zip\n",
            "  inflating: Data/1.jpg              \n",
            "  inflating: Data/92523143_112611000394558_7134463367585988608_n.jpg  \n",
            "  inflating: Data/Free-Wall-Mounted-Circular-Shop-Sign-Mockup.jpg  \n",
            "  inflating: Data/PSD Nam Hiếu Pro cân All.png  \n",
            "  inflating: Data/cmnd_4.jpg         \n",
            "  inflating: Data/72692b248078b2faa52447ca335c8840.jpg  \n",
            "  inflating: Data/PSD Căn Cước Công Dân Nam.jpg  \n",
            "  inflating: Data/cmnd_6.jpg         \n",
            "  inflating: Data/en-Khung-Nh-m-Qu-ng-C-o-Ngo-i-Tr-i-H-nh-Ch.jpg  \n",
            "  inflating: Data/gplx_1.jpg         \n",
            "  inflating: Data/18268548_245413092601550_5599992807706616534_n.jpg  \n",
            "  inflating: Data/cmnd_2.jpg         \n",
            "  inflating: Data/cmnd_3.jpg         \n",
            "  inflating: Data/cmnd_5.jpg         \n",
            "  inflating: Data/gplx_2.jpg         \n",
            "  inflating: Data/cmnd_1.jpg         \n",
            "  inflating: Data/196844891_4063679410352138_2713119580530911640_n.png  \n",
            "  inflating: Data/176999130_541252506842116_8537137668028310062_n.png  \n",
            "  inflating: Data/tsv_1.jpg          \n",
            "  inflating: Data/196548871_316813940126094_7762008765789490497_n.png  \n",
            "  inflating: Data/190571295_527784888406568_8782674988930952724_n.jpg  \n",
            "  inflating: Data/195293651_480530203010620_6015346053374688836_n.png  \n",
            "  inflating: Data/196767921_527602621626467_3641970183054026274_n.png  \n",
            "  inflating: Data/mat-dung-alu-1.jpg  \n",
            "  inflating: Data/196499256_1847904825368394_3643275380846180698_n.png  \n",
            "  inflating: Data/78616404_1240002629528325_7124805485080870912_n.png  \n",
            "  inflating: Data/195514058_839636086670567_2857898892834868872_n.png  \n",
            "  inflating: Data/Boulevard.jpg      \n",
            "  inflating: Data/171697001_478881529902387_972370116009430757_n.png  \n",
            "  inflating: Data/bang-quang-cao-tieng-anh-la-gi-2.jpg  \n",
            "  inflating: Data/196738327_238671734255615_8937018048496814351_n.png  \n",
            "  inflating: Data/196149588_553492862687218_6657344033564349022_n.png  \n",
            "  inflating: Data/130770797_441508670575891_2249106115244563154_n.png  \n",
            "  inflating: Data/196397426_5461995917208631_1667872440040765229_n.png  \n",
            "  inflating: Data/197305763_153476103469302_4755877182036746837_n.png  \n",
            "  inflating: Data/196099155_514251666436382_3836497023056303623_n.png  \n",
            "  inflating: Data/195840095_231346011751053_6246123952341405292_n.png  \n",
            "  inflating: Data/194838687_1180882175722080_5521506302250975972_n.png  \n",
            "  inflating: Data/195997945_411096123211528_194269724542536899_n.png  \n"
          ],
          "name": "stdout"
        }
      ]
    },
    {
      "cell_type": "code",
      "metadata": {
        "colab": {
          "base_uri": "https://localhost:8080/"
        },
        "id": "ZMSjkIE4hN7s",
        "outputId": "653dbac3-7e8b-45f4-aeec-10bbe75f0483"
      },
      "source": [
        "!python test.py --trained_model=craft_mlt_25k.pth --test_folder='Data'"
      ],
      "execution_count": null,
      "outputs": [
        {
          "output_type": "stream",
          "text": [
            "Loading weights from checkpoint (craft_mlt_25k.pth)\n",
            "THCudaCheck FAIL file=/pytorch/aten/src/THC/THCGeneral.cpp line=663 error=11 : invalid argument\n",
            "elapsed time : 11.676117181777954s\n"
          ],
          "name": "stdout"
        }
      ]
    },
    {
      "cell_type": "code",
      "metadata": {
        "colab": {
          "base_uri": "https://localhost:8080/"
        },
        "id": "C1q7j8M3hsks",
        "outputId": "c847b6ae-c7dd-4ce8-c50b-da91d5c4b03a"
      },
      "source": [
        "from google.colab import drive\n",
        "drive.mount('/content/MyDrive')"
      ],
      "execution_count": null,
      "outputs": [
        {
          "output_type": "stream",
          "text": [
            "Mounted at /content/MyDrive\n"
          ],
          "name": "stdout"
        }
      ]
    },
    {
      "cell_type": "code",
      "metadata": {
        "id": "jkjNGJlxhYfn"
      },
      "source": [
        "!cp -r result /content/MyDrive/MyDrive/AITempoRun"
      ],
      "execution_count": null,
      "outputs": []
    },
    {
      "cell_type": "code",
      "metadata": {
        "id": "_KHvo8rbh_b2"
      },
      "source": [
        ""
      ],
      "execution_count": null,
      "outputs": []
    }
  ]
}