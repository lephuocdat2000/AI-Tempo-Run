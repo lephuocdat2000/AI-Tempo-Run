{
  "nbformat": 4,
  "nbformat_minor": 0,
  "metadata": {
    "colab": {
      "name": "Training.ipynb",
      "provenance": [],
      "authorship_tag": "ABX9TyNyaa16e4eKz9xbCFQmQHdu",
      "include_colab_link": true
    },
    "kernelspec": {
      "name": "python3",
      "display_name": "Python 3"
    },
    "language_info": {
      "name": "python"
    },
    "accelerator": "GPU"
  },
  "cells": [
    {
      "cell_type": "markdown",
      "metadata": {
        "id": "view-in-github",
        "colab_type": "text"
      },
      "source": [
        "<a href=\"https://colab.research.google.com/github/lephuocdat2000/AI-Tempo-Run/blob/main/Training.ipynb\" target=\"_parent\"><img src=\"https://colab.research.google.com/assets/colab-badge.svg\" alt=\"Open In Colab\"/></a>"
      ]
    },
    {
      "cell_type": "code",
      "metadata": {
        "colab": {
          "base_uri": "https://localhost:8080/"
        },
        "id": "km68ZGUhqhrw",
        "outputId": "232d1b8d-a933-4ef9-fcd8-8879404426ef"
      },
      "source": [
        "#kiem tra gpu\n",
        "!nvidia-smi"
      ],
      "execution_count": 1,
      "outputs": [
        {
          "output_type": "stream",
          "text": [
            "Sat Jul 31 08:48:24 2021       \n",
            "+-----------------------------------------------------------------------------+\n",
            "| NVIDIA-SMI 470.42.01    Driver Version: 460.32.03    CUDA Version: 11.2     |\n",
            "|-------------------------------+----------------------+----------------------+\n",
            "| GPU  Name        Persistence-M| Bus-Id        Disp.A | Volatile Uncorr. ECC |\n",
            "| Fan  Temp  Perf  Pwr:Usage/Cap|         Memory-Usage | GPU-Util  Compute M. |\n",
            "|                               |                      |               MIG M. |\n",
            "|===============================+======================+======================|\n",
            "|   0  Tesla T4            Off  | 00000000:00:04.0 Off |                    0 |\n",
            "| N/A   58C    P8    10W /  70W |      0MiB / 15109MiB |      0%      Default |\n",
            "|                               |                      |                  N/A |\n",
            "+-------------------------------+----------------------+----------------------+\n",
            "                                                                               \n",
            "+-----------------------------------------------------------------------------+\n",
            "| Processes:                                                                  |\n",
            "|  GPU   GI   CI        PID   Type   Process name                  GPU Memory |\n",
            "|        ID   ID                                                   Usage      |\n",
            "|=============================================================================|\n",
            "|  No running processes found                                                 |\n",
            "+-----------------------------------------------------------------------------+\n"
          ],
          "name": "stdout"
        }
      ]
    },
    {
      "cell_type": "code",
      "metadata": {
        "colab": {
          "base_uri": "https://localhost:8080/"
        },
        "id": "Wu-ymj3oqsJA",
        "outputId": "b6911b5c-7fe3-441c-f0ec-b79f1c538283"
      },
      "source": [
        "#mounting drive\n",
        "from google.colab import drive\n",
        "drive.mount('/content/drive')"
      ],
      "execution_count": 2,
      "outputs": [
        {
          "output_type": "stream",
          "text": [
            "Mounted at /content/drive\n"
          ],
          "name": "stdout"
        }
      ]
    },
    {
      "cell_type": "markdown",
      "metadata": {
        "id": "ucQx1W4Oqz-Z"
      },
      "source": [
        "\n",
        "Clone source code từ github và set-up các tài nguyên cần thiết "
      ]
    },
    {
      "cell_type": "code",
      "metadata": {
        "colab": {
          "base_uri": "https://localhost:8080/"
        },
        "id": "5ZRlVQIuq1Ff",
        "outputId": "53183999-06cc-4197-8a71-ff0e37164a28"
      },
      "source": [
        "%cd /content/drive/MyDrive"
      ],
      "execution_count": 3,
      "outputs": [
        {
          "output_type": "stream",
          "text": [
            "/content/drive/MyDrive\n"
          ],
          "name": "stdout"
        }
      ]
    },
    {
      "cell_type": "code",
      "metadata": {
        "colab": {
          "base_uri": "https://localhost:8080/"
        },
        "id": "RrbSkrZxq92g",
        "outputId": "a803b6b8-dd2c-4840-ffde-a9cbb831901c"
      },
      "source": [
        "!git clone https://github.com/CS-UIT-AI-CLUB/CRAFT"
      ],
      "execution_count": 4,
      "outputs": [
        {
          "output_type": "stream",
          "text": [
            "fatal: destination path 'CRAFT' already exists and is not an empty directory.\n"
          ],
          "name": "stdout"
        }
      ]
    },
    {
      "cell_type": "code",
      "metadata": {
        "colab": {
          "base_uri": "https://localhost:8080/"
        },
        "id": "RQtlq6oIrBnE",
        "outputId": "4e23f0ed-e7c2-4e16-afc9-7feb6738d47e"
      },
      "source": [
        "%cd CRAFT\n"
      ],
      "execution_count": 5,
      "outputs": [
        {
          "output_type": "stream",
          "text": [
            "/content/drive/MyDrive/CRAFT\n"
          ],
          "name": "stdout"
        }
      ]
    },
    {
      "cell_type": "code",
      "metadata": {
        "colab": {
          "base_uri": "https://localhost:8080/",
          "height": 323
        },
        "id": "E8XlTk9xrIII",
        "outputId": "c3cc7479-86c4-4bab-dab2-14c265697957"
      },
      "source": [
        "!pip install pillow==6.2.2"
      ],
      "execution_count": 16,
      "outputs": [
        {
          "output_type": "stream",
          "text": [
            "Collecting pillow==6.2.2\n",
            "  Using cached Pillow-6.2.2-cp37-cp37m-manylinux1_x86_64.whl (2.1 MB)\n",
            "Installing collected packages: pillow\n",
            "  Attempting uninstall: pillow\n",
            "    Found existing installation: Pillow 2.8.2\n",
            "    Uninstalling Pillow-2.8.2:\n",
            "      Successfully uninstalled Pillow-2.8.2\n",
            "\u001b[31mERROR: pip's dependency resolver does not currently take into account all the packages that are installed. This behaviour is the source of the following dependency conflicts.\n",
            "water 0.1.dev1 requires Pillow==2.8.2, but you have pillow 6.2.2 which is incompatible.\n",
            "bokeh 2.3.3 requires pillow>=7.1.0, but you have pillow 6.2.2 which is incompatible.\n",
            "albumentations 0.1.12 requires imgaug<0.2.7,>=0.2.5, but you have imgaug 0.2.9 which is incompatible.\u001b[0m\n",
            "Successfully installed pillow-6.2.2\n"
          ],
          "name": "stdout"
        },
        {
          "output_type": "display_data",
          "data": {
            "application/vnd.colab-display-data+json": {
              "pip_warning": {
                "packages": [
                  "PIL"
                ]
              }
            }
          },
          "metadata": {
            "tags": []
          }
        }
      ]
    },
    {
      "cell_type": "code",
      "metadata": {
        "colab": {
          "base_uri": "https://localhost:8080/"
        },
        "id": "cwpyJzqYrKfd",
        "outputId": "92d42795-6567-482b-91ed-9cfe5d9bb620"
      },
      "source": [
        "!pip install -r requirements.txt -f https://download.pytorch.org/whl/torch_stable.html"
      ],
      "execution_count": 7,
      "outputs": [
        {
          "output_type": "stream",
          "text": [
            "Looking in links: https://download.pytorch.org/whl/torch_stable.html\n",
            "Collecting torch==1.7.0+cu101\n",
            "  Downloading https://download.pytorch.org/whl/cu101/torch-1.7.0%2Bcu101-cp37-cp37m-linux_x86_64.whl (735.3 MB)\n",
            "\u001b[K     |████████████████████████████████| 735.3 MB 11 kB/s \n",
            "\u001b[?25hCollecting torchvision==0.8.1+cu101\n",
            "  Downloading https://download.pytorch.org/whl/cu101/torchvision-0.8.1%2Bcu101-cp37-cp37m-linux_x86_64.whl (12.7 MB)\n",
            "\u001b[K     |████████████████████████████████| 12.7 MB 155 kB/s \n",
            "\u001b[?25hCollecting opencv-python==3.4.2.17\n",
            "  Downloading opencv_python-3.4.2.17-cp37-cp37m-manylinux1_x86_64.whl (25.0 MB)\n",
            "\u001b[K     |████████████████████████████████| 25.0 MB 106 kB/s \n",
            "\u001b[?25hCollecting scikit-image==0.14.2\n",
            "  Downloading scikit_image-0.14.2-cp37-cp37m-manylinux1_x86_64.whl (25.3 MB)\n",
            "\u001b[K     |████████████████████████████████| 25.3 MB 76 kB/s \n",
            "\u001b[?25hCollecting scipy==1.1.0\n",
            "  Downloading scipy-1.1.0-cp37-cp37m-manylinux1_x86_64.whl (31.2 MB)\n",
            "\u001b[K     |████████████████████████████████| 31.2 MB 42 kB/s \n",
            "\u001b[?25hCollecting Polygon3\n",
            "  Downloading Polygon3-3.0.9.1.tar.gz (39 kB)\n",
            "Requirement already satisfied: future in /usr/local/lib/python3.7/dist-packages (from torch==1.7.0+cu101->-r requirements.txt (line 1)) (0.16.0)\n",
            "Requirement already satisfied: typing-extensions in /usr/local/lib/python3.7/dist-packages (from torch==1.7.0+cu101->-r requirements.txt (line 1)) (3.7.4.3)\n",
            "Collecting dataclasses\n",
            "  Downloading dataclasses-0.6-py3-none-any.whl (14 kB)\n",
            "Requirement already satisfied: numpy in /usr/local/lib/python3.7/dist-packages (from torch==1.7.0+cu101->-r requirements.txt (line 1)) (1.19.5)\n",
            "Requirement already satisfied: pillow>=4.1.1 in /usr/local/lib/python3.7/dist-packages (from torchvision==0.8.1+cu101->-r requirements.txt (line 2)) (6.2.2)\n",
            "Requirement already satisfied: networkx>=1.8 in /usr/local/lib/python3.7/dist-packages (from scikit-image==0.14.2->-r requirements.txt (line 4)) (2.5.1)\n",
            "Requirement already satisfied: PyWavelets>=0.4.0 in /usr/local/lib/python3.7/dist-packages (from scikit-image==0.14.2->-r requirements.txt (line 4)) (1.1.1)\n",
            "Requirement already satisfied: six>=1.10.0 in /usr/local/lib/python3.7/dist-packages (from scikit-image==0.14.2->-r requirements.txt (line 4)) (1.15.0)\n",
            "Requirement already satisfied: cloudpickle>=0.2.1 in /usr/local/lib/python3.7/dist-packages (from scikit-image==0.14.2->-r requirements.txt (line 4)) (1.3.0)\n",
            "Requirement already satisfied: dask[array]>=1.0.0 in /usr/local/lib/python3.7/dist-packages (from scikit-image==0.14.2->-r requirements.txt (line 4)) (2.12.0)\n",
            "Requirement already satisfied: matplotlib>=2.0.0 in /usr/local/lib/python3.7/dist-packages (from scikit-image==0.14.2->-r requirements.txt (line 4)) (3.2.2)\n",
            "Requirement already satisfied: toolz>=0.7.3 in /usr/local/lib/python3.7/dist-packages (from dask[array]>=1.0.0->scikit-image==0.14.2->-r requirements.txt (line 4)) (0.11.1)\n",
            "Requirement already satisfied: pyparsing!=2.0.4,!=2.1.2,!=2.1.6,>=2.0.1 in /usr/local/lib/python3.7/dist-packages (from matplotlib>=2.0.0->scikit-image==0.14.2->-r requirements.txt (line 4)) (2.4.7)\n",
            "Requirement already satisfied: python-dateutil>=2.1 in /usr/local/lib/python3.7/dist-packages (from matplotlib>=2.0.0->scikit-image==0.14.2->-r requirements.txt (line 4)) (2.8.1)\n",
            "Requirement already satisfied: cycler>=0.10 in /usr/local/lib/python3.7/dist-packages (from matplotlib>=2.0.0->scikit-image==0.14.2->-r requirements.txt (line 4)) (0.10.0)\n",
            "Requirement already satisfied: kiwisolver>=1.0.1 in /usr/local/lib/python3.7/dist-packages (from matplotlib>=2.0.0->scikit-image==0.14.2->-r requirements.txt (line 4)) (1.3.1)\n",
            "Requirement already satisfied: decorator<5,>=4.3 in /usr/local/lib/python3.7/dist-packages (from networkx>=1.8->scikit-image==0.14.2->-r requirements.txt (line 4)) (4.4.2)\n",
            "Building wheels for collected packages: Polygon3\n",
            "  Building wheel for Polygon3 (setup.py) ... \u001b[?25l\u001b[?25hdone\n",
            "  Created wheel for Polygon3: filename=Polygon3-3.0.9.1-cp37-cp37m-linux_x86_64.whl size=102644 sha256=ecfc6c5074b350a5432764f31abbf0708f7fb62fed4a2431d770c06b428d5eca\n",
            "  Stored in directory: /root/.cache/pip/wheels/0d/f3/a1/d9909fbad83c438786f3fbde79b0636c9e843107bad74baba7\n",
            "Successfully built Polygon3\n",
            "Installing collected packages: dataclasses, torch, scipy, torchvision, scikit-image, Polygon3, opencv-python\n",
            "  Attempting uninstall: torch\n",
            "    Found existing installation: torch 1.9.0+cu102\n",
            "    Uninstalling torch-1.9.0+cu102:\n",
            "      Successfully uninstalled torch-1.9.0+cu102\n",
            "  Attempting uninstall: scipy\n",
            "    Found existing installation: scipy 1.4.1\n",
            "    Uninstalling scipy-1.4.1:\n",
            "      Successfully uninstalled scipy-1.4.1\n",
            "  Attempting uninstall: torchvision\n",
            "    Found existing installation: torchvision 0.10.0+cu102\n",
            "    Uninstalling torchvision-0.10.0+cu102:\n",
            "      Successfully uninstalled torchvision-0.10.0+cu102\n",
            "  Attempting uninstall: scikit-image\n",
            "    Found existing installation: scikit-image 0.16.2\n",
            "    Uninstalling scikit-image-0.16.2:\n",
            "      Successfully uninstalled scikit-image-0.16.2\n",
            "  Attempting uninstall: opencv-python\n",
            "    Found existing installation: opencv-python 4.1.2.30\n",
            "    Uninstalling opencv-python-4.1.2.30:\n",
            "      Successfully uninstalled opencv-python-4.1.2.30\n",
            "\u001b[31mERROR: pip's dependency resolver does not currently take into account all the packages that are installed. This behaviour is the source of the following dependency conflicts.\n",
            "torchtext 0.10.0 requires torch==1.9.0, but you have torch 1.7.0+cu101 which is incompatible.\n",
            "pymc3 3.11.2 requires scipy>=1.2.0, but you have scipy 1.1.0 which is incompatible.\n",
            "plotnine 0.6.0 requires scipy>=1.2.0, but you have scipy 1.1.0 which is incompatible.\n",
            "albumentations 0.1.12 requires imgaug<0.2.7,>=0.2.5, but you have imgaug 0.2.9 which is incompatible.\u001b[0m\n",
            "Successfully installed Polygon3-3.0.9.1 dataclasses-0.6 opencv-python-3.4.2.17 scikit-image-0.14.2 scipy-1.1.0 torch-1.7.0+cu101 torchvision-0.8.1+cu101\n"
          ],
          "name": "stdout"
        }
      ]
    },
    {
      "cell_type": "code",
      "metadata": {
        "colab": {
          "base_uri": "https://localhost:8080/",
          "height": 525
        },
        "id": "GnXaXJj8rN-f",
        "outputId": "3a84ded5-574c-4d22-d344-6fe9dbcc27ff"
      },
      "source": [
        "!pip install water"
      ],
      "execution_count": 8,
      "outputs": [
        {
          "output_type": "stream",
          "text": [
            "Collecting water\n",
            "  Downloading water-0.1.dev1.tar.gz (1.2 kB)\n",
            "Collecting Pillow==2.8.2\n",
            "  Downloading Pillow-2.8.2.zip (9.4 MB)\n",
            "\u001b[K     |████████████████████████████████| 9.4 MB 6.5 MB/s \n",
            "\u001b[?25hBuilding wheels for collected packages: water, Pillow\n",
            "  Building wheel for water (setup.py) ... \u001b[?25l\u001b[?25hdone\n",
            "  Created wheel for water: filename=water-0.1.dev1-py3-none-any.whl size=1844 sha256=f3b32d57ea8b75afc5a777d77fb9970b04a46ca155c46eae19b66341e48b9bae\n",
            "  Stored in directory: /root/.cache/pip/wheels/4b/77/3c/6272eae3ae839ae94fe0b6d7ddcbd525a5c1729d2c440da4ff\n",
            "  Building wheel for Pillow (setup.py) ... \u001b[?25l\u001b[?25hdone\n",
            "  Created wheel for Pillow: filename=Pillow-2.8.2-cp37-cp37m-linux_x86_64.whl size=1043270 sha256=7f7ca920fa7b1af964c8fa63c32abb0b80061f535931eccac3216ef6d6bc1958\n",
            "  Stored in directory: /root/.cache/pip/wheels/bf/98/61/cc6808046ba818ffe3aff2b8d699fa5493362de36301aa130d\n",
            "Successfully built water Pillow\n",
            "Installing collected packages: Pillow, water\n",
            "  Attempting uninstall: Pillow\n",
            "    Found existing installation: Pillow 6.2.2\n",
            "    Uninstalling Pillow-6.2.2:\n",
            "      Successfully uninstalled Pillow-6.2.2\n",
            "\u001b[31mERROR: pip's dependency resolver does not currently take into account all the packages that are installed. This behaviour is the source of the following dependency conflicts.\n",
            "torchvision 0.8.1+cu101 requires pillow>=4.1.1, but you have pillow 2.8.2 which is incompatible.\n",
            "scikit-image 0.14.2 requires pillow>=4.3.0, but you have pillow 2.8.2 which is incompatible.\n",
            "bokeh 2.3.3 requires pillow>=7.1.0, but you have pillow 2.8.2 which is incompatible.\n",
            "albumentations 0.1.12 requires imgaug<0.2.7,>=0.2.5, but you have imgaug 0.2.9 which is incompatible.\u001b[0m\n",
            "Successfully installed Pillow-2.8.2 water-0.1.dev1\n"
          ],
          "name": "stdout"
        },
        {
          "output_type": "display_data",
          "data": {
            "application/vnd.colab-display-data+json": {
              "pip_warning": {
                "packages": [
                  "PIL"
                ]
              }
            }
          },
          "metadata": {
            "tags": []
          }
        }
      ]
    },
    {
      "cell_type": "code",
      "metadata": {
        "colab": {
          "base_uri": "https://localhost:8080/"
        },
        "id": "4ub0JY1NrPqK",
        "outputId": "51003aa1-01c6-463d-aa44-2bdc17a88268"
      },
      "source": [
        "#cac thu muc de chua file test\n",
        "!mkdir result\n",
        "!mkdir results\n",
        "!mkdir tested_image"
      ],
      "execution_count": 9,
      "outputs": [
        {
          "output_type": "stream",
          "text": [
            "mkdir: cannot create directory ‘result’: File exists\n",
            "mkdir: cannot create directory ‘results’: File exists\n",
            "mkdir: cannot create directory ‘tested_image’: File exists\n"
          ],
          "name": "stdout"
        }
      ]
    },
    {
      "cell_type": "code",
      "metadata": {
        "colab": {
          "base_uri": "https://localhost:8080/"
        },
        "id": "-L2rBR4VsKTk",
        "outputId": "8ae9507a-effe-48bf-d04b-68e8b5135bef"
      },
      "source": [
        "%cd /content/drive/MyDrive/CRAFT/pretrain\n",
        "#tai cac file can thiet cho training\n",
        "!gdown --id 1-RM4shR-oj0cWO-9mthKZKnyF-qy1OZW -O 91.pth\n",
        "!gdown --id 1wQDetvezJGp6eBVK7_yInOzZdpoD3k7j -O vgg16_bn-6c64b313.pth"
      ],
      "execution_count": 10,
      "outputs": [
        {
          "output_type": "stream",
          "text": [
            "/content/drive/MyDrive/CRAFT/pretrain\n",
            "Downloading...\n",
            "From: https://drive.google.com/uc?id=1-RM4shR-oj0cWO-9mthKZKnyF-qy1OZW\n",
            "To: /content/drive/MyDrive/CRAFT/pretrain/91.pth\n",
            "83.2MB [00:00, 147MB/s] \n",
            "Downloading...\n",
            "From: https://drive.google.com/uc?id=1wQDetvezJGp6eBVK7_yInOzZdpoD3k7j\n",
            "To: /content/drive/My Drive/CRAFT/pretrain/vgg16_bn-6c64b313.pth\n",
            "554MB [00:03, 164MB/s]\n"
          ],
          "name": "stdout"
        }
      ]
    },
    {
      "cell_type": "markdown",
      "metadata": {
        "id": "oM0uqjiDsVzG"
      },
      "source": [
        "Tải dữ liệu"
      ]
    },
    {
      "cell_type": "code",
      "metadata": {
        "colab": {
          "base_uri": "https://localhost:8080/"
        },
        "id": "UxSTQXOGsSW8",
        "outputId": "dca12413-f6cd-4c96-b25f-24b74358c768"
      },
      "source": [
        "%cd /content/drive/MyDrive"
      ],
      "execution_count": 18,
      "outputs": [
        {
          "output_type": "stream",
          "text": [
            "/content/drive/MyDrive\n"
          ],
          "name": "stdout"
        }
      ]
    },
    {
      "cell_type": "code",
      "metadata": {
        "id": "__oaIrrGvuqo"
      },
      "source": [
        "#rename thư mục theo định dạng đúng\n",
        "import os\n",
        "os.rename('./train/images','./train/ch4_training_images')\n",
        "os.rename('./train/labels','./train/ch4_training_localization_transcription_gt')"
      ],
      "execution_count": 19,
      "outputs": []
    },
    {
      "cell_type": "code",
      "metadata": {
        "colab": {
          "base_uri": "https://localhost:8080/"
        },
        "id": "TI1_Bxyvt8lM",
        "outputId": "8343b6cf-4e77-41ab-dc54-69a0cffe9b7f"
      },
      "source": [
        "#thay doi dinh dang data\n",
        "%cd /content/drive/MyDrive/train/ch4_training_localization_transcription_gt\n",
        "directory = os.listdir('/content/drive/MyDrive/train/ch4_training_localization_transcription_gt')\n",
        "\n",
        "for file in directory:\n",
        "\tname, ext = os.path.splitext(file)\n",
        "\tos.rename(file,name[3:] + ext)"
      ],
      "execution_count": 24,
      "outputs": [
        {
          "output_type": "stream",
          "text": [
            "/content/drive/MyDrive/AITempoRun/Preprocessing Data/Inverse\n"
          ],
          "name": "stdout"
        }
      ]
    },
    {
      "cell_type": "markdown",
      "metadata": {
        "id": "yhYesuIju-l0"
      },
      "source": [
        "Bắt đầu train"
      ]
    },
    {
      "cell_type": "code",
      "metadata": {
        "colab": {
          "base_uri": "https://localhost:8080/"
        },
        "id": "CsJQyOHOufQw",
        "outputId": "316a82e8-e759-49ef-bc42-a6d7b2fb147a"
      },
      "source": [
        "%cd /content/drive/MyDrive/CRAFT"
      ],
      "execution_count": 26,
      "outputs": [
        {
          "output_type": "stream",
          "text": [
            "/content/drive/MyDrive/CRAFT\n"
          ],
          "name": "stdout"
        }
      ]
    },
    {
      "cell_type": "code",
      "metadata": {
        "colab": {
          "base_uri": "https://localhost:8080/"
        },
        "id": "5kS3MC1bvB5_",
        "outputId": "6d6759f7-c659-4c19-d6ee-8190da6e236b"
      },
      "source": [
        "!python trainic15data.py"
      ],
      "execution_count": 28,
      "outputs": [
        {
          "output_type": "stream",
          "text": [
            "/usr/local/lib/python3.7/dist-packages/torch/nn/_reduction.py:44: UserWarning: size_average and reduce args will be deprecated, please use reduction='none' instead.\n",
            "  warnings.warn(warning.format(ret))\n",
            "epoch 0:(2/503) batch || training time for 2 batch 11.49265432357788 || training loss 0.28356137312948704 ||\n",
            "epoch 0:(4/503) batch || training time for 2 batch 3.632329225540161 || training loss 0.1562136523425579 ||\n",
            "epoch 0:(6/503) batch || training time for 2 batch 4.4218034744262695 || training loss 0.1602504625916481 ||\n",
            "/content/drive/My Drive/CRAFT/mep.py:19: RuntimeWarning: invalid value encountered in true_divide\n",
            "  math.sqrt((p2[1] - p1[1]) ** 2 + (p2[0] - p1[0]) ** 2))\n",
            "/content/drive/My Drive/CRAFT/mep.py:57: RuntimeWarning: invalid value encountered in long_scalars\n",
            "  (x1 - x2) * (y3 - y4) - (y1 - y2) * (x3 - x4))\n",
            "/content/drive/My Drive/CRAFT/mep.py:59: RuntimeWarning: invalid value encountered in long_scalars\n",
            "  (x1 - x2) * (y3 - y4) - (y1 - y2) * (x3 - x4))\n",
            "Traceback (most recent call last):\n",
            "  File \"trainic15data.py\", line 155, in <module>\n",
            "    for index, (images, gh_label, gah_label, mask, _) in enumerate(real_data_loader):\n",
            "  File \"/usr/local/lib/python3.7/dist-packages/torch/utils/data/dataloader.py\", line 435, in __next__\n",
            "    data = self._next_data()\n",
            "  File \"/usr/local/lib/python3.7/dist-packages/torch/utils/data/dataloader.py\", line 475, in _next_data\n",
            "    data = self._dataset_fetcher.fetch(index)  # may raise StopIteration\n",
            "  File \"/usr/local/lib/python3.7/dist-packages/torch/utils/data/_utils/fetch.py\", line 44, in fetch\n",
            "    data = [self.dataset[idx] for idx in possibly_batched_index]\n",
            "  File \"/usr/local/lib/python3.7/dist-packages/torch/utils/data/_utils/fetch.py\", line 44, in <listcomp>\n",
            "    data = [self.dataset[idx] for idx in possibly_batched_index]\n",
            "  File \"/content/drive/My Drive/CRAFT/data_loader.py\", line 546, in __getitem__\n",
            "    return self.pull_item(index)\n",
            "  File \"/content/drive/My Drive/CRAFT/data_loader.py\", line 334, in pull_item\n",
            "    image, character_bboxes, words, confidence_mask, confidences = self.load_image_gt_and_confidencemask(index)\n",
            "  File \"/content/drive/My Drive/CRAFT/data_loader.py\", line 562, in load_image_gt_and_confidencemask\n",
            "    word_bboxes, words = self.load_gt(gt_path)\n",
            "  File \"/content/drive/My Drive/CRAFT/data_loader.py\", line 616, in load_gt\n",
            "    d = np.linalg.norm(box[0] - bbox[i])\n",
            "TypeError: unsupported operand type(s) for -: 'int' and 'NoneType'\n"
          ],
          "name": "stdout"
        }
      ]
    }
  ]
}