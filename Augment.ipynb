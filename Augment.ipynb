{
  "nbformat": 4,
  "nbformat_minor": 0,
  "metadata": {
    "colab": {
      "name": "Untitled171.ipynb",
      "provenance": [],
      "authorship_tag": "ABX9TyOJr7EOmUPqFubzSmGaJDBK",
      "include_colab_link": true
    },
    "kernelspec": {
      "name": "python3",
      "display_name": "Python 3"
    },
    "language_info": {
      "name": "python"
    }
  },
  "cells": [
    {
      "cell_type": "markdown",
      "metadata": {
        "id": "view-in-github",
        "colab_type": "text"
      },
      "source": [
        "<a href=\"https://colab.research.google.com/github/lephuocdat2000/AI-Tempo-Run/blob/main/Augment.ipynb\" target=\"_parent\"><img src=\"https://colab.research.google.com/assets/colab-badge.svg\" alt=\"Open In Colab\"/></a>"
      ]
    },
    {
      "cell_type": "code",
      "metadata": {
        "colab": {
          "base_uri": "https://localhost:8080/"
        },
        "id": "_sr0d1Ft_znr",
        "outputId": "f0dd4e8e-4679-4595-8c5d-53670c018f3b"
      },
      "source": [
        "from google.colab import drive\n",
        "drive.mount('/content/gdrive')"
      ],
      "execution_count": 1,
      "outputs": [
        {
          "output_type": "stream",
          "text": [
            "Mounted at /content/gdrive\n"
          ],
          "name": "stdout"
        }
      ]
    },
    {
      "cell_type": "code",
      "metadata": {
        "colab": {
          "base_uri": "https://localhost:8080/"
        },
        "id": "fTExyeD9_9o0",
        "outputId": "4ec490cf-a8f6-4500-aad7-1226e2e794d9"
      },
      "source": [
        "cd /content/gdrive/MyDrive/AITempoRun"
      ],
      "execution_count": 2,
      "outputs": [
        {
          "output_type": "stream",
          "text": [
            "/content/gdrive/MyDrive/AITempoRun\n"
          ],
          "name": "stdout"
        }
      ]
    },
    {
      "cell_type": "code",
      "metadata": {
        "colab": {
          "base_uri": "https://localhost:8080/"
        },
        "id": "a65CnQRUEF2g",
        "outputId": "4af7a955-840c-4530-a369-1b03940776bc"
      },
      "source": [
        "!pip install cPickle"
      ],
      "execution_count": 3,
      "outputs": [
        {
          "output_type": "stream",
          "text": [
            "\u001b[31mERROR: Could not find a version that satisfies the requirement cPickle (from versions: none)\u001b[0m\n",
            "\u001b[31mERROR: No matching distribution found for cPickle\u001b[0m\n"
          ],
          "name": "stdout"
        }
      ]
    },
    {
      "cell_type": "code",
      "metadata": {
        "colab": {
          "base_uri": "https://localhost:8080/"
        },
        "id": "aUua_EjpEr2e",
        "outputId": "9128dc5f-5de7-48bd-c6ca-ba197851ac14"
      },
      "source": [
        "cd /content/gdrive/MyDrive/AITempoRun"
      ],
      "execution_count": 62,
      "outputs": [
        {
          "output_type": "stream",
          "text": [
            "/content/gdrive/MyDrive/AITempoRun\n"
          ],
          "name": "stdout"
        }
      ]
    },
    {
      "cell_type": "code",
      "metadata": {
        "id": "ZuQIK27ND22G"
      },
      "source": [
        "import h5py\n",
        "import numpy as np\n",
        "from PIL import Image\n",
        "import os.path as osp\n",
        "import _pickle as cp\n",
        "import os\n",
        "\n",
        "im_dir = 'bg_img/bg_img'\n",
        "depth_db = h5py.File('depth.h5','r')\n",
        "seg_db = h5py.File('seg.h5','r')"
      ],
      "execution_count": 32,
      "outputs": []
    },
    {
      "cell_type": "code",
      "metadata": {
        "id": "1Ncr1MdjWgRk"
      },
      "source": [
        ""
      ],
      "execution_count": null,
      "outputs": []
    },
    {
      "cell_type": "code",
      "metadata": {
        "id": "oPRmczDvJTPK"
      },
      "source": [
        "import tarfile\n",
        "tar = tarfile.open('/content/gdrive/MyDrive/AITempoRun/bg_img.tar.gz', \"r:gz\")\n",
        "tar.extractall()\n",
        "tar.close()"
      ],
      "execution_count": 41,
      "outputs": []
    },
    {
      "cell_type": "code",
      "metadata": {
        "id": "C7oB-bciEaev"
      },
      "source": [
        "imnames = sorted(depth_db.keys())"
      ],
      "execution_count": 6,
      "outputs": []
    },
    {
      "cell_type": "code",
      "metadata": {
        "id": "Zt-VOcqSFEov"
      },
      "source": [
        "with open('imnames.cp', 'rb') as f:\n",
        "  filtered_imnames = set(cp.load(f))"
      ],
      "execution_count": 8,
      "outputs": []
    },
    {
      "cell_type": "code",
      "metadata": {
        "id": "7PH8o7P5Qq9Y"
      },
      "source": [
        "import cv2\n",
        "from google.colab.patches import cv2_imshow"
      ],
      "execution_count": 49,
      "outputs": []
    },
    {
      "cell_type": "code",
      "metadata": {
        "colab": {
          "base_uri": "https://localhost:8080/",
          "height": 229
        },
        "id": "jD4tZS3aHarK",
        "outputId": "ae9d30cc-1471-4975-fbe1-77afe400a3eb"
      },
      "source": [
        "renderer = RendererV3(DATA_PATH, max_time=SECS_PER_IMG)\n",
        "\n",
        "for imname in imnames:\n",
        "  # ignore if not in filetered list:\n",
        "    if imname not in filtered_imnames : continue \n",
        "    print(imname)\n",
        "    # get the colour image:\n",
        "    img = Image.open(osp.join(im_dir, imname)).convert('RGB')\n",
        "    \n",
        "    # get depth:\n",
        "    depth = depth_db[imname][:].T\n",
        "    depth = depth[:,:,0]\n",
        "    # get segmentation info:\n",
        "    seg = seg_db['mask'][imname][:].astype('float32')\n",
        "    area = seg_db['mask'][imname].attrs['area']\n",
        "    label = seg_db['mask'][imname].attrs['label']\n",
        "    # re-size uniformly:\n",
        "    sz = depth.shape[:2][::-1]\n",
        "    img = np.array(img.resize(sz,Image.ANTIALIAS))\n",
        "    seg = np.array(Image.fromarray(seg).resize(sz,Image.NEAREST))\n",
        "    res = RV3.render_text(img,depth,seg,area,label, ninstance=INSTANCE_PER_IMAGE,viz=viz)\n",
        "    # if len(res>0):  add_res_to_db(imname,res,out_db)\n",
        "    break"
      ],
      "execution_count": 60,
      "outputs": [
        {
          "output_type": "error",
          "ename": "NameError",
          "evalue": "ignored",
          "traceback": [
            "\u001b[0;31m---------------------------------------------------------------------------\u001b[0m",
            "\u001b[0;31mNameError\u001b[0m                                 Traceback (most recent call last)",
            "\u001b[0;32m<ipython-input-60-63684ebf528f>\u001b[0m in \u001b[0;36m<module>\u001b[0;34m()\u001b[0m\n\u001b[0;32m----> 1\u001b[0;31m \u001b[0mrenderer\u001b[0m \u001b[0;34m=\u001b[0m \u001b[0mRendererV3\u001b[0m\u001b[0;34m(\u001b[0m\u001b[0mDATA_PATH\u001b[0m\u001b[0;34m,\u001b[0m \u001b[0mmax_time\u001b[0m\u001b[0;34m=\u001b[0m\u001b[0mSECS_PER_IMG\u001b[0m\u001b[0;34m)\u001b[0m\u001b[0;34m\u001b[0m\u001b[0;34m\u001b[0m\u001b[0m\n\u001b[0m\u001b[1;32m      2\u001b[0m \u001b[0;34m\u001b[0m\u001b[0m\n\u001b[1;32m      3\u001b[0m \u001b[0;32mfor\u001b[0m \u001b[0mimname\u001b[0m \u001b[0;32min\u001b[0m \u001b[0mimnames\u001b[0m\u001b[0;34m:\u001b[0m\u001b[0;34m\u001b[0m\u001b[0;34m\u001b[0m\u001b[0m\n\u001b[1;32m      4\u001b[0m   \u001b[0;31m# ignore if not in filetered list:\u001b[0m\u001b[0;34m\u001b[0m\u001b[0;34m\u001b[0m\u001b[0;34m\u001b[0m\u001b[0m\n\u001b[1;32m      5\u001b[0m     \u001b[0;32mif\u001b[0m \u001b[0mimname\u001b[0m \u001b[0;32mnot\u001b[0m \u001b[0;32min\u001b[0m \u001b[0mfiltered_imnames\u001b[0m \u001b[0;34m:\u001b[0m \u001b[0;32mcontinue\u001b[0m\u001b[0;34m\u001b[0m\u001b[0;34m\u001b[0m\u001b[0m\n",
            "\u001b[0;31mNameError\u001b[0m: name 'RendererV3' is not defined"
          ]
        }
      ]
    },
    {
      "cell_type": "code",
      "metadata": {
        "colab": {
          "base_uri": "https://localhost:8080/"
        },
        "id": "Ab6SJa5raIGN",
        "outputId": "f07c0048-2c9f-483f-e1c8-5eec84a7108c"
      },
      "source": [
        "!pip install pygame"
      ],
      "execution_count": 68,
      "outputs": [
        {
          "output_type": "stream",
          "text": [
            "Collecting pygame\n",
            "  Downloading pygame-2.0.1-cp37-cp37m-manylinux1_x86_64.whl (11.8 MB)\n",
            "\u001b[K     |████████████████████████████████| 11.8 MB 4.9 MB/s \n",
            "\u001b[?25hInstalling collected packages: pygame\n",
            "Successfully installed pygame-2.0.1\n"
          ],
          "name": "stdout"
        }
      ]
    },
    {
      "cell_type": "code",
      "metadata": {
        "colab": {
          "base_uri": "https://localhost:8080/"
        },
        "id": "JcvvTH3XaRCJ",
        "outputId": "d858d4c9-5da2-4eb1-a9ff-48ab84275b57"
      },
      "source": [
        "!pip install wget "
      ],
      "execution_count": 70,
      "outputs": [
        {
          "output_type": "stream",
          "text": [
            "Collecting wget\n",
            "  Downloading wget-3.2.zip (10 kB)\n",
            "Building wheels for collected packages: wget\n",
            "  Building wheel for wget (setup.py) ... \u001b[?25l\u001b[?25hdone\n",
            "  Created wheel for wget: filename=wget-3.2-py3-none-any.whl size=9673 sha256=02cf8f54bdf05c8567e90952e007bac2e31d372b389f3fa92bede90cc0cd68ee\n",
            "  Stored in directory: /root/.cache/pip/wheels/a1/b6/7c/0e63e34eb06634181c63adacca38b79ff8f35c37e3c13e3c02\n",
            "Successfully built wget\n",
            "Installing collected packages: wget\n",
            "Successfully installed wget-3.2\n"
          ],
          "name": "stdout"
        }
      ]
    },
    {
      "cell_type": "code",
      "metadata": {
        "colab": {
          "base_uri": "https://localhost:8080/"
        },
        "id": "lMUUB3jwqHx7",
        "outputId": "d8b578ed-8815-4a22-a690-ae3eed9f4a69"
      },
      "source": [
        "cd /content/gdrive/MyDrive/AITempoRun/SynthText"
      ],
      "execution_count": 97,
      "outputs": [
        {
          "output_type": "stream",
          "text": [
            "/content/gdrive/MyDrive/AITempoRun/SynthText\n"
          ],
          "name": "stdout"
        }
      ]
    },
    {
      "cell_type": "code",
      "metadata": {
        "colab": {
          "base_uri": "https://localhost:8080/"
        },
        "id": "UBmIbjO1aA4g",
        "outputId": "aee62ad1-5fda-415a-de3b-6590c376c956"
      },
      "source": [
        "!python gen.py"
      ],
      "execution_count": 74,
      "outputs": [
        {
          "output_type": "stream",
          "text": [
            "pygame 2.0.1 (SDL 2.0.14, Python 3.7.11)\n",
            "Hello from the pygame community. https://www.pygame.org/contribute.html\n",
            "\u001b[34;1mgetting data..\u001b[0m\n",
            "\u001b[34;1m\t-> done\u001b[0m\n",
            "Traceback (most recent call last):\n",
            "  File \"gen.py\", line 183, in <module>\n",
            "    main(viz=args.viz, debug=args.debug, output_masks=args.output_masks, data_path=args.data_path)\n",
            "  File \"gen.py\", line 72, in main\n",
            "    out_db = h5py.File(OUT_FILE, 'w')\n",
            "  File \"/usr/local/lib/python3.7/dist-packages/h5py/_hl/files.py\", line 427, in __init__\n",
            "    swmr=swmr)\n",
            "  File \"/usr/local/lib/python3.7/dist-packages/h5py/_hl/files.py\", line 196, in make_fid\n",
            "    fid = h5f.create(name, h5f.ACC_TRUNC, fapl=fapl, fcpl=fcpl)\n",
            "  File \"h5py/_objects.pyx\", line 54, in h5py._objects.with_phil.wrapper\n",
            "  File \"h5py/_objects.pyx\", line 55, in h5py._objects.with_phil.wrapper\n",
            "  File \"h5py/h5f.pyx\", line 116, in h5py.h5f.create\n",
            "OSError: Unable to create file (unable to lock file, errno = 11, error message = 'Resource temporarily unavailable')\n"
          ],
          "name": "stdout"
        }
      ]
    },
    {
      "cell_type": "code",
      "metadata": {
        "id": "bhbilVzifozs"
      },
      "source": [
        "!cp seg.h5 /content/gdrive/MyDrive/AITempoRun/SynthText/data"
      ],
      "execution_count": 84,
      "outputs": []
    },
    {
      "cell_type": "code",
      "metadata": {
        "id": "v5vtknobf9f9"
      },
      "source": [
        "!cp depth.h5 /content/gdrive/MyDrive/AITempoRun/SynthText/data"
      ],
      "execution_count": 85,
      "outputs": []
    },
    {
      "cell_type": "code",
      "metadata": {
        "colab": {
          "base_uri": "https://localhost:8080/"
        },
        "id": "5sIrUK_QjBSP",
        "outputId": "0e18e0c8-a177-45bc-929c-b6adde6bf74e"
      },
      "source": [
        "cd /content/gdrive/MyDrive/AITempoRun/SynthText"
      ],
      "execution_count": 86,
      "outputs": [
        {
          "output_type": "stream",
          "text": [
            "/content/gdrive/MyDrive/AITempoRun/SynthText\n"
          ],
          "name": "stdout"
        }
      ]
    },
    {
      "cell_type": "code",
      "metadata": {
        "colab": {
          "base_uri": "https://localhost:8080/"
        },
        "id": "SECoR5nAjD8b",
        "outputId": "6835123c-525b-4fe1-ea09-0f399daab265"
      },
      "source": [
        "!python gen.py"
      ],
      "execution_count": 122,
      "outputs": [
        {
          "output_type": "stream",
          "text": [
            "pygame 2.0.1 (SDL 2.0.14, Python 3.7.11)\n",
            "Hello from the pygame community. https://www.pygame.org/contribute.html\n",
            "\u001b[34;1mgetting data..\u001b[0m\n",
            "\u001b[34;1m\tdownloading data (56 M) from: http://www.robots.ox.ac.uk/~ankush/data.tar.gz\u001b[0m\n",
            "\u001b[31;1mData not found and have problems downloading.\u001b[0m\n"
          ],
          "name": "stdout"
        }
      ]
    },
    {
      "cell_type": "code",
      "metadata": {
        "colab": {
          "base_uri": "https://localhost:8080/"
        },
        "id": "N0nl0xYKvt6D",
        "outputId": "833f4a13-87fb-4c10-da4f-313e581651eb"
      },
      "source": [
        "cd /content/gdrive/MyDrive/AITempoRun/SynthText"
      ],
      "execution_count": 119,
      "outputs": [
        {
          "output_type": "stream",
          "text": [
            "/content/gdrive/MyDrive/AITempoRun/SynthText\n"
          ],
          "name": "stdout"
        }
      ]
    },
    {
      "cell_type": "code",
      "metadata": {
        "id": "f16N8UG-2Vf4"
      },
      "source": [
        "rm -r bg_img/"
      ],
      "execution_count": 120,
      "outputs": []
    },
    {
      "cell_type": "code",
      "metadata": {
        "colab": {
          "base_uri": "https://localhost:8080/"
        },
        "id": "53ugEFWovwnB",
        "outputId": "9a218bcf-1604-4bc0-ff3e-48eb8849b771"
      },
      "source": [
        "!wget 'http://www.robots.ox.ac.uk/~ankush/data.tar.gz'"
      ],
      "execution_count": 108,
      "outputs": [
        {
          "output_type": "stream",
          "text": [
            "--2021-08-02 16:43:42--  http://www.robots.ox.ac.uk/~ankush/data.tar.gz\n",
            "Resolving www.robots.ox.ac.uk (www.robots.ox.ac.uk)... 129.67.94.2\n",
            "Connecting to www.robots.ox.ac.uk (www.robots.ox.ac.uk)|129.67.94.2|:80... connected.\n",
            "HTTP request sent, awaiting response... 301 Moved Permanently\n",
            "Location: https://www.robots.ox.ac.uk/~ankush/data.tar.gz [following]\n",
            "--2021-08-02 16:43:42--  https://www.robots.ox.ac.uk/~ankush/data.tar.gz\n",
            "Connecting to www.robots.ox.ac.uk (www.robots.ox.ac.uk)|129.67.94.2|:443... connected.\n",
            "HTTP request sent, awaiting response... 200 OK\n",
            "Length: 58716160 (56M) [application/x-gzip]\n",
            "Saving to: ‘data.tar.gz’\n",
            "\n",
            "data.tar.gz         100%[===================>]  56.00M  19.3MB/s    in 2.9s    \n",
            "\n",
            "2021-08-02 16:43:45 (19.3 MB/s) - ‘data.tar.gz’ saved [58716160/58716160]\n",
            "\n"
          ],
          "name": "stdout"
        }
      ]
    },
    {
      "cell_type": "code",
      "metadata": {
        "id": "Xhy62xe0u8HF"
      },
      "source": [
        "tar = tarfile.open('/content/gdrive/MyDrive/data.tar.gz',\"r\")\n",
        "tar.extractall('/content/gdrive/MyDrive/tar_test')\n",
        "tar.close()"
      ],
      "execution_count": 115,
      "outputs": []
    },
    {
      "cell_type": "code",
      "metadata": {
        "colab": {
          "base_uri": "https://localhost:8080/"
        },
        "id": "WbyS9YuNxKoz",
        "outputId": "f7901b5f-ed18-4f6b-c49a-cb6e471031a0"
      },
      "source": [
        "print(tar)"
      ],
      "execution_count": 112,
      "outputs": [
        {
          "output_type": "stream",
          "text": [
            "<tarfile.TarFile object at 0x7fead223de10>\n"
          ],
          "name": "stdout"
        }
      ]
    },
    {
      "cell_type": "code",
      "metadata": {
        "id": "uK0Hb9U5xRHJ"
      },
      "source": [
        ""
      ],
      "execution_count": null,
      "outputs": []
    }
  ]
}