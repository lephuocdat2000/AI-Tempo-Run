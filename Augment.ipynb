{
  "nbformat": 4,
  "nbformat_minor": 0,
  "metadata": {
    "colab": {
      "name": "Augment.ipynb",
      "provenance": [],
      "collapsed_sections": [],
      "authorship_tag": "ABX9TyN+Qf4nkUZ47m/0fIiiqYDG",
      "include_colab_link": true
    },
    "kernelspec": {
      "name": "python3",
      "display_name": "Python 3"
    },
    "language_info": {
      "name": "python"
    }
  },
  "cells": [
    {
      "cell_type": "markdown",
      "metadata": {
        "id": "view-in-github",
        "colab_type": "text"
      },
      "source": [
        "<a href=\"https://colab.research.google.com/github/lephuocdat2000/AI-Tempo-Run/blob/main/Augment.ipynb\" target=\"_parent\"><img src=\"https://colab.research.google.com/assets/colab-badge.svg\" alt=\"Open In Colab\"/></a>"
      ]
    },
    {
      "cell_type": "code",
      "metadata": {
        "colab": {
          "base_uri": "https://localhost:8080/"
        },
        "id": "GqFg-ra4Wtw3",
        "outputId": "5747f033-1b89-4016-d134-42b4d2808e5b"
      },
      "source": [
        "from google.colab import drive\n",
        "drive.mount('/content/gdrive')"
      ],
      "execution_count": 1,
      "outputs": [
        {
          "output_type": "stream",
          "text": [
            "Mounted at /content/gdrive\n"
          ],
          "name": "stdout"
        }
      ]
    },
    {
      "cell_type": "code",
      "metadata": {
        "colab": {
          "base_uri": "https://localhost:8080/"
        },
        "id": "tiYkFknXW0lj",
        "outputId": "f06cfdca-3054-4fad-99d2-dacdbd901fff"
      },
      "source": [
        "cd /content/gdrive/MyDrive/AITempoRun/SynthText"
      ],
      "execution_count": 2,
      "outputs": [
        {
          "output_type": "stream",
          "text": [
            "/content/gdrive/MyDrive/AITempoRun/SynthText\n"
          ],
          "name": "stdout"
        }
      ]
    },
    {
      "cell_type": "code",
      "metadata": {
        "id": "NVQLIMkPGFL4"
      },
      "source": [
        "!pip install -r requirements.txt"
      ],
      "execution_count": null,
      "outputs": []
    },
    {
      "cell_type": "code",
      "metadata": {
        "id": "ZQ-hDWFVGGmF"
      },
      "source": [
        "!python gen.py"
      ],
      "execution_count": null,
      "outputs": []
    },
    {
      "cell_type": "code",
      "metadata": {
        "id": "NT0m_21bmJYB"
      },
      "source": [
        "# Author: Ankush Gupta\n",
        "# Date: 2015\n",
        "\n",
        "\"\"\"\n",
        "Visualize the generated localization synthetic\n",
        "data stored in h5 data-bases\n",
        "\"\"\"\n",
        "from __future__ import division\n",
        "import os\n",
        "import os.path as osp\n",
        "import numpy as np\n",
        "import matplotlib.pyplot as plt \n",
        "import h5py \n",
        "from common import *\n",
        "import cv2\n",
        "\n",
        "\n",
        "def viz_textbb(text_im, charBB_list, wordBB, alpha=1.0):\n",
        "    \"\"\"\n",
        "    text_im : image containing text\n",
        "    charBB_list : list of 2x4xn_i bounding-box matrices\n",
        "    wordBB : 2x4xm matrix of word coordinates\n",
        "    \"\"\"\n",
        "    plt.close(1)\n",
        "    plt.figure(1,figsize=(15,15))\n",
        "    plt.imshow(text_im)\n",
        "    H,W = text_im.shape[:2]\n",
        "    # # plot the character-BB:\n",
        "    # for i in range(len(charBB_list)):\n",
        "    #      bbs = charBB_list[i]\n",
        "    #      ni = bbs.shape[-1]\n",
        "    #      for j in range(ni):\n",
        "    #          bb = bbs[:,:,j]\n",
        "    #          bb = np.c_[bb,bb[:,0]]\n",
        "    #          plt.plot(bb[0,:], bb[1,:], 'r', alpha=alpha/2)\n",
        "  \n",
        "    # plot the word-BB:\n",
        "    for i in range(wordBB.shape[-1]):\n",
        "        bb = wordBB[:,:,i]\n",
        "        bb = np.c_[bb,bb[:,0]]\n",
        "        plt.plot(bb[0,:], bb[1,:], 'g', alpha=alpha)\n",
        "        # visualize the indiv vertices:\n",
        "        vcol = ['r','g','b','k']\n",
        "        for j in range(4):\n",
        "            plt.scatter(bb[0,j],bb[1,j],color=vcol[j])        \n",
        "\n",
        "    plt.gca().set_xlim([0,W-1])\n",
        "    plt.gca().set_ylim([H-1,0])\n",
        "    plt.show(block=False)\n",
        "\n",
        "def main(db_fname):\n",
        "    db = h5py.File(db_fname, 'r')\n",
        "    dsets = sorted(db['data'].keys())\n",
        "    print (\"total number of images : \", colorize(Color.RED, len(dsets), highlight=True))\n",
        "    start = 3161\n",
        "    for k in dsets:\n",
        "        rgb = db['data'][k][...]\n",
        "        rgb = cv2.cvtColor(rgb,cv2.COLOR_RGB2BGR)\n",
        "        cv2.imwrite('/content/gdrive/MyDrive/AITempoRun/SynthText/dataset/images/train_'+str(start)+'.jpg',rgb)\n",
        "        charBB = db['data'][k].attrs['charBB']\n",
        "        wordBB = db['data'][k].attrs['wordBB']\n",
        "        txt = db['data'][k].attrs['txt']\n",
        "        txt = [txt[i].replace(\"\\n\",\" \").strip().split(\" \") for i in range(len(txt))]\n",
        "        txt_lst = []\n",
        "        for i in txt:\n",
        "           for j in i:\n",
        "              if j!='': txt_lst.append(j)\n",
        "      \n",
        "        #viz_textbb(rgb, [charBB], wordBB)\n",
        "\n",
        "        #write file\n",
        "        f=open('/content/gdrive/MyDrive/AITempoRun/SynthText/dataset/labels/train_'+str(start)+'.txt',\"w\")\n",
        "        for i in range(wordBB.shape[-1]):\n",
        "               bb = wordBB[:,:,i]\n",
        "               coordinate = \"\"\n",
        "               for j in range(0,4):\n",
        "                  coordinate += str(int(bb[0][j])) +\",\"+str(int(bb[1][j]))+\",\"\n",
        "               coordinate += txt_lst[i]\n",
        "               f.write(coordinate+\"\\n\")\n",
        "        f.close()\n",
        "        start+=1    \n",
        "           \n",
        "        print (\"image name        : \", colorize(Color.RED, k, bold=True))\n",
        "        #print (\"  ** no. of chars : \", colorize(Color.YELLOW, charBB.shape[-1]))\n",
        "        #print (\"  ** no. of words : \", colorize(Color.YELLOW, wordBB.shape[-1]))\n",
        "        #print (\"  ** text         : \", colorize(Color.GREEN, txt_lst))\n",
        "\n",
        "        # if 'q' in input(\"next? ('q' to exit) : \"):\n",
        "        #     break\n",
        "    db.close()\n",
        "    print(start)\n",
        "if __name__=='__main__':\n",
        "    main('results/SynthText.h5')\n",
        "\n"
      ],
      "execution_count": null,
      "outputs": []
    }
  ]
}