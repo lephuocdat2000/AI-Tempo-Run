{
  "nbformat": 4,
  "nbformat_minor": 0,
  "metadata": {
    "colab": {
      "name": "Augment.ipynb",
      "provenance": [],
      "collapsed_sections": [],
      "authorship_tag": "ABX9TyMo3C0zQ/05I7ERdYLsRlTk",
      "include_colab_link": true
    },
    "kernelspec": {
      "name": "python3",
      "display_name": "Python 3"
    },
    "language_info": {
      "name": "python"
    }
  },
  "cells": [
    {
      "cell_type": "markdown",
      "metadata": {
        "id": "view-in-github",
        "colab_type": "text"
      },
      "source": [
        "<a href=\"https://colab.research.google.com/github/lephuocdat2000/AI-Tempo-Run/blob/main/Augment.ipynb\" target=\"_parent\"><img src=\"https://colab.research.google.com/assets/colab-badge.svg\" alt=\"Open In Colab\"/></a>"
      ]
    },
    {
      "cell_type": "code",
      "metadata": {
        "colab": {
          "base_uri": "https://localhost:8080/"
        },
        "id": "GqFg-ra4Wtw3",
        "outputId": "5a1acd9e-f4cf-4b82-bdb6-087d8885fbe1"
      },
      "source": [
        "from google.colab import drive\n",
        "drive.mount('/content/gdrive')"
      ],
      "execution_count": 1,
      "outputs": [
        {
          "output_type": "stream",
          "text": [
            "Mounted at /content/gdrive\n"
          ],
          "name": "stdout"
        }
      ]
    },
    {
      "cell_type": "code",
      "metadata": {
        "colab": {
          "base_uri": "https://localhost:8080/"
        },
        "id": "tiYkFknXW0lj",
        "outputId": "cd3d39df-2446-4971-fc90-980e7ff5255c"
      },
      "source": [
        "cd /content/gdrive/MyDrive/AITempoRun/SynthText"
      ],
      "execution_count": 2,
      "outputs": [
        {
          "output_type": "stream",
          "text": [
            "/content/gdrive/MyDrive/AITempoRun/SynthText\n"
          ],
          "name": "stdout"
        }
      ]
    },
    {
      "cell_type": "code",
      "metadata": {
        "id": "NVQLIMkPGFL4",
        "colab": {
          "base_uri": "https://localhost:8080/",
          "height": 1000
        },
        "outputId": "0a9f3a41-05a2-465d-b7e9-27f7957938bc"
      },
      "source": [
        "!pip install -r requirements.txt"
      ],
      "execution_count": 3,
      "outputs": [
        {
          "output_type": "stream",
          "text": [
            "Requirement already satisfied: cycler==0.10.0 in /usr/local/lib/python3.7/dist-packages (from -r requirements.txt (line 1)) (0.10.0)\n",
            "Collecting h5py==2.9.0\n",
            "  Downloading h5py-2.9.0-cp37-cp37m-manylinux1_x86_64.whl (2.8 MB)\n",
            "\u001b[K     |████████████████████████████████| 2.8 MB 5.3 MB/s \n",
            "\u001b[?25hCollecting image==1.5.27\n",
            "  Downloading image-1.5.27-py2.py3-none-any.whl (19 kB)\n",
            "Collecting imageio==2.5.0\n",
            "  Downloading imageio-2.5.0-py3-none-any.whl (3.3 MB)\n",
            "\u001b[K     |████████████████████████████████| 3.3 MB 49.1 MB/s \n",
            "\u001b[?25hCollecting kiwisolver==1.1.0\n",
            "  Downloading kiwisolver-1.1.0-cp37-cp37m-manylinux1_x86_64.whl (90 kB)\n",
            "\u001b[K     |████████████████████████████████| 90 kB 8.2 MB/s \n",
            "\u001b[?25hCollecting matplotlib==3.0.3\n",
            "  Downloading matplotlib-3.0.3-cp37-cp37m-manylinux1_x86_64.whl (13.0 MB)\n",
            "\u001b[K     |████████████████████████████████| 13.0 MB 84 kB/s \n",
            "\u001b[?25hCollecting numpy==1.16.3\n",
            "  Downloading numpy-1.16.3-cp37-cp37m-manylinux1_x86_64.whl (17.3 MB)\n",
            "\u001b[K     |████████████████████████████████| 17.3 MB 125 kB/s \n",
            "\u001b[?25hCollecting opencv-python==4.1.0.25\n",
            "  Downloading opencv_python-4.1.0.25-cp37-cp37m-manylinux1_x86_64.whl (26.6 MB)\n",
            "\u001b[K     |████████████████████████████████| 26.6 MB 28 kB/s \n",
            "\u001b[?25hCollecting Pillow==6.0.0\n",
            "  Downloading Pillow-6.0.0-cp37-cp37m-manylinux1_x86_64.whl (2.0 MB)\n",
            "\u001b[K     |████████████████████████████████| 2.0 MB 42.5 MB/s \n",
            "\u001b[?25hCollecting pygame==1.9.6\n",
            "  Downloading pygame-1.9.6-cp37-cp37m-manylinux1_x86_64.whl (11.4 MB)\n",
            "\u001b[K     |████████████████████████████████| 11.4 MB 22.0 MB/s \n",
            "\u001b[?25hCollecting pyparsing==2.2.0\n",
            "  Downloading pyparsing-2.2.0-py2.py3-none-any.whl (56 kB)\n",
            "\u001b[K     |████████████████████████████████| 56 kB 3.4 MB/s \n",
            "\u001b[?25hCollecting python-dateutil==2.6.1\n",
            "  Downloading python_dateutil-2.6.1-py2.py3-none-any.whl (194 kB)\n",
            "\u001b[K     |████████████████████████████████| 194 kB 58.8 MB/s \n",
            "\u001b[?25hCollecting pytz==2017.3\n",
            "  Downloading pytz-2017.3-py2.py3-none-any.whl (511 kB)\n",
            "\u001b[K     |████████████████████████████████| 511 kB 51.5 MB/s \n",
            "\u001b[?25hCollecting scipy==1.2.1\n",
            "  Downloading scipy-1.2.1-cp37-cp37m-manylinux1_x86_64.whl (24.8 MB)\n",
            "\u001b[K     |████████████████████████████████| 24.8 MB 63 kB/s \n",
            "\u001b[?25hCollecting six==1.11.0\n",
            "  Downloading six-1.11.0-py2.py3-none-any.whl (10 kB)\n",
            "Collecting sqlparse==0.3.0\n",
            "  Downloading sqlparse-0.3.0-py2.py3-none-any.whl (39 kB)\n",
            "Collecting tornado==6.0.2\n",
            "  Downloading tornado-6.0.2.tar.gz (481 kB)\n",
            "\u001b[K     |████████████████████████████████| 481 kB 70.0 MB/s \n",
            "\u001b[?25hCollecting wget==3.2\n",
            "  Downloading wget-3.2.zip (10 kB)\n",
            "Collecting django\n",
            "  Downloading Django-3.2.6-py3-none-any.whl (7.9 MB)\n",
            "\u001b[K     |████████████████████████████████| 7.9 MB 14.1 MB/s \n",
            "\u001b[?25hRequirement already satisfied: setuptools in /usr/local/lib/python3.7/dist-packages (from kiwisolver==1.1.0->-r requirements.txt (line 5)) (57.2.0)\n",
            "Collecting asgiref<4,>=3.3.2\n",
            "  Downloading asgiref-3.4.1-py3-none-any.whl (25 kB)\n",
            "Requirement already satisfied: typing-extensions in /usr/local/lib/python3.7/dist-packages (from asgiref<4,>=3.3.2->django->image==1.5.27->-r requirements.txt (line 3)) (3.7.4.3)\n",
            "Building wheels for collected packages: tornado, wget\n",
            "  Building wheel for tornado (setup.py) ... \u001b[?25l\u001b[?25hdone\n",
            "  Created wheel for tornado: filename=tornado-6.0.2-cp37-cp37m-linux_x86_64.whl size=423898 sha256=d531068f2874fb65e4f7b7a92fbff2975bfe5ec201521ec60b5f59af244f050b\n",
            "  Stored in directory: /root/.cache/pip/wheels/10/ec/4d/1aca4b143f2a19439632329f1d5b6b9f62ee9508ddf30f9d2c\n",
            "  Building wheel for wget (setup.py) ... \u001b[?25l\u001b[?25hdone\n",
            "  Created wheel for wget: filename=wget-3.2-py3-none-any.whl size=9673 sha256=9bf61689d2414360dc644656f58b36ac5c0377b0b8079fcc099a256b77217851\n",
            "  Stored in directory: /root/.cache/pip/wheels/a1/b6/7c/0e63e34eb06634181c63adacca38b79ff8f35c37e3c13e3c02\n",
            "Successfully built tornado wget\n",
            "Installing collected packages: sqlparse, six, pytz, asgiref, python-dateutil, pyparsing, Pillow, numpy, kiwisolver, django, wget, tornado, scipy, pygame, opencv-python, matplotlib, imageio, image, h5py\n",
            "  Attempting uninstall: sqlparse\n",
            "    Found existing installation: sqlparse 0.4.1\n",
            "    Uninstalling sqlparse-0.4.1:\n",
            "      Successfully uninstalled sqlparse-0.4.1\n",
            "  Attempting uninstall: six\n",
            "    Found existing installation: six 1.15.0\n",
            "    Uninstalling six-1.15.0:\n",
            "      Successfully uninstalled six-1.15.0\n",
            "  Attempting uninstall: pytz\n",
            "    Found existing installation: pytz 2018.9\n",
            "    Uninstalling pytz-2018.9:\n",
            "      Successfully uninstalled pytz-2018.9\n",
            "  Attempting uninstall: python-dateutil\n",
            "    Found existing installation: python-dateutil 2.8.1\n",
            "    Uninstalling python-dateutil-2.8.1:\n",
            "      Successfully uninstalled python-dateutil-2.8.1\n",
            "  Attempting uninstall: pyparsing\n",
            "    Found existing installation: pyparsing 2.4.7\n",
            "    Uninstalling pyparsing-2.4.7:\n",
            "      Successfully uninstalled pyparsing-2.4.7\n",
            "  Attempting uninstall: Pillow\n",
            "    Found existing installation: Pillow 7.1.2\n",
            "    Uninstalling Pillow-7.1.2:\n",
            "      Successfully uninstalled Pillow-7.1.2\n",
            "  Attempting uninstall: numpy\n",
            "    Found existing installation: numpy 1.19.5\n",
            "    Uninstalling numpy-1.19.5:\n",
            "      Successfully uninstalled numpy-1.19.5\n",
            "  Attempting uninstall: kiwisolver\n",
            "    Found existing installation: kiwisolver 1.3.1\n",
            "    Uninstalling kiwisolver-1.3.1:\n",
            "      Successfully uninstalled kiwisolver-1.3.1\n",
            "  Attempting uninstall: tornado\n",
            "    Found existing installation: tornado 5.1.1\n",
            "    Uninstalling tornado-5.1.1:\n",
            "      Successfully uninstalled tornado-5.1.1\n",
            "  Attempting uninstall: scipy\n",
            "    Found existing installation: scipy 1.4.1\n",
            "    Uninstalling scipy-1.4.1:\n",
            "      Successfully uninstalled scipy-1.4.1\n",
            "  Attempting uninstall: opencv-python\n",
            "    Found existing installation: opencv-python 4.1.2.30\n",
            "    Uninstalling opencv-python-4.1.2.30:\n",
            "      Successfully uninstalled opencv-python-4.1.2.30\n",
            "  Attempting uninstall: matplotlib\n",
            "    Found existing installation: matplotlib 3.2.2\n",
            "    Uninstalling matplotlib-3.2.2:\n",
            "      Successfully uninstalled matplotlib-3.2.2\n",
            "  Attempting uninstall: imageio\n",
            "    Found existing installation: imageio 2.4.1\n",
            "    Uninstalling imageio-2.4.1:\n",
            "      Successfully uninstalled imageio-2.4.1\n",
            "  Attempting uninstall: h5py\n",
            "    Found existing installation: h5py 3.1.0\n",
            "    Uninstalling h5py-3.1.0:\n",
            "      Successfully uninstalled h5py-3.1.0\n",
            "\u001b[31mERROR: pip's dependency resolver does not currently take into account all the packages that are installed. This behaviour is the source of the following dependency conflicts.\n",
            "xarray 0.18.2 requires numpy>=1.17, but you have numpy 1.16.3 which is incompatible.\n",
            "tensorflow 2.5.0 requires h5py~=3.1.0, but you have h5py 2.9.0 which is incompatible.\n",
            "tensorflow 2.5.0 requires numpy~=1.19.2, but you have numpy 1.16.3 which is incompatible.\n",
            "tensorflow 2.5.0 requires six~=1.15.0, but you have six 1.11.0 which is incompatible.\n",
            "pyerfa 2.0.0 requires numpy>=1.17, but you have numpy 1.16.3 which is incompatible.\n",
            "pyarrow 3.0.0 requires numpy>=1.16.6, but you have numpy 1.16.3 which is incompatible.\n",
            "plotnine 0.6.0 requires matplotlib>=3.1.1, but you have matplotlib 3.0.3 which is incompatible.\n",
            "pandas 1.1.5 requires python-dateutil>=2.7.3, but you have python-dateutil 2.6.1 which is incompatible.\n",
            "mizani 0.6.0 requires matplotlib>=3.1.1, but you have matplotlib 3.0.3 which is incompatible.\n",
            "kapre 0.3.5 requires numpy>=1.18.5, but you have numpy 1.16.3 which is incompatible.\n",
            "jaxlib 0.1.69+cuda110 requires numpy>=1.17, but you have numpy 1.16.3 which is incompatible.\n",
            "jax 0.2.17 requires numpy>=1.17, but you have numpy 1.16.3 which is incompatible.\n",
            "google-colab 1.0.0 requires six~=1.15.0, but you have six 1.11.0 which is incompatible.\n",
            "google-colab 1.0.0 requires tornado~=5.1.0; python_version >= \"3.0\", but you have tornado 6.0.2 which is incompatible.\n",
            "google-api-python-client 1.12.8 requires six<2dev,>=1.13.0, but you have six 1.11.0 which is incompatible.\n",
            "google-api-core 1.26.3 requires six>=1.13.0, but you have six 1.11.0 which is incompatible.\n",
            "fbprophet 0.7.1 requires python-dateutil>=2.8.0, but you have python-dateutil 2.6.1 which is incompatible.\n",
            "dm-tree 0.1.6 requires six>=1.12.0, but you have six 1.11.0 which is incompatible.\n",
            "datascience 0.10.6 requires folium==0.2.1, but you have folium 0.8.3 which is incompatible.\n",
            "bokeh 2.3.3 requires pillow>=7.1.0, but you have pillow 6.0.0 which is incompatible.\n",
            "astropy 4.2.1 requires numpy>=1.17, but you have numpy 1.16.3 which is incompatible.\n",
            "albumentations 0.1.12 requires imgaug<0.2.7,>=0.2.5, but you have imgaug 0.2.9 which is incompatible.\u001b[0m\n",
            "Successfully installed Pillow-6.0.0 asgiref-3.4.1 django-3.2.6 h5py-2.9.0 image-1.5.27 imageio-2.5.0 kiwisolver-1.1.0 matplotlib-3.0.3 numpy-1.16.3 opencv-python-4.1.0.25 pygame-1.9.6 pyparsing-2.2.0 python-dateutil-2.6.1 pytz-2017.3 scipy-1.2.1 six-1.11.0 sqlparse-0.3.0 tornado-6.0.2 wget-3.2\n"
          ],
          "name": "stdout"
        },
        {
          "output_type": "display_data",
          "data": {
            "application/vnd.colab-display-data+json": {
              "pip_warning": {
                "packages": [
                  "PIL",
                  "dateutil",
                  "kiwisolver",
                  "matplotlib",
                  "mpl_toolkits",
                  "numpy",
                  "pyparsing",
                  "pytz",
                  "six",
                  "tornado"
                ]
              }
            }
          },
          "metadata": {
            "tags": []
          }
        }
      ]
    },
    {
      "cell_type": "code",
      "metadata": {
        "id": "8LzMnUspDvo7"
      },
      "source": [
        "!python gen.py"
      ],
      "execution_count": null,
      "outputs": []
    },
    {
      "cell_type": "code",
      "metadata": {
        "id": "6gHJzK1DDs6Y"
      },
      "source": [
        "# Author: Ankush Gupta\n",
        "# Date: 2015\n",
        "\n",
        "\"\"\"\n",
        "Visualize the generated localization synthetic\n",
        "data stored in h5 data-bases\n",
        "\"\"\"\n",
        "from __future__ import division\n",
        "import os\n",
        "import os.path as osp\n",
        "import numpy as np\n",
        "import matplotlib.pyplot as plt \n",
        "import h5py \n",
        "from common import *\n",
        "import cv2\n",
        "\n",
        "\n",
        "def viz_textbb(text_im, charBB_list, wordBB, alpha=1.0):\n",
        "    \"\"\"\n",
        "    text_im : image containing text\n",
        "    charBB_list : list of 2x4xn_i bounding-box matrices\n",
        "    wordBB : 2x4xm matrix of word coordinates\n",
        "    \"\"\"\n",
        "    plt.close(1)\n",
        "    plt.figure(1,figsize=(15,15))\n",
        "    plt.imshow(text_im)\n",
        "    H,W = text_im.shape[:2]\n",
        "    # # plot the character-BB:\n",
        "    # for i in range(len(charBB_list)):\n",
        "    #      bbs = charBB_list[i]\n",
        "    #      ni = bbs.shape[-1]\n",
        "    #      for j in range(ni):\n",
        "    #          bb = bbs[:,:,j]\n",
        "    #          bb = np.c_[bb,bb[:,0]]\n",
        "    #          plt.plot(bb[0,:], bb[1,:], 'r', alpha=alpha/2)\n",
        "  \n",
        "    # plot the word-BB:\n",
        "    for i in range(wordBB.shape[-1]):\n",
        "        bb = wordBB[:,:,i]\n",
        "        bb = np.c_[bb,bb[:,0]]\n",
        "        plt.plot(bb[0,:], bb[1,:], 'g', alpha=alpha)\n",
        "        # visualize the indiv vertices:\n",
        "        vcol = ['r','g','b','k']\n",
        "        for j in range(4):\n",
        "            plt.scatter(bb[0,j],bb[1,j],color=vcol[j])        \n",
        "\n",
        "    plt.gca().set_xlim([0,W-1])\n",
        "    plt.gca().set_ylim([H-1,0])\n",
        "    plt.show(block=False)\n",
        "\n",
        "def main(db_fname):\n",
        "    db = h5py.File(db_fname, 'r')\n",
        "    dsets = sorted(db['data'].keys())\n",
        "    print (\"total number of images : \", colorize(Color.RED, len(dsets), highlight=True))\n",
        "    start = 4321\n",
        "    for k in dsets:\n",
        "        rgb = db['data'][k][...]\n",
        "        rgb = cv2.cvtColor(rgb,cv2.COLOR_RGB2BGR)\n",
        "        cv2.imwrite('/content/gdrive/MyDrive/AITempoRun/SynthText/dataset/images/train_'+str(start)+'.jpg',rgb)\n",
        "        charBB = db['data'][k].attrs['charBB']\n",
        "        wordBB = db['data'][k].attrs['wordBB']\n",
        "        txt = db['data'][k].attrs['txt']\n",
        "        txt = [txt[i].replace(\"\\n\",\" \").strip().split(\" \") for i in range(len(txt))]\n",
        "        txt_lst = []\n",
        "        for i in txt:\n",
        "           for j in i:\n",
        "              if j!='': txt_lst.append(j)\n",
        "      \n",
        "        #viz_textbb(rgb, [charBB], wordBB)\n",
        "\n",
        "        #write file\n",
        "        f=open('/content/gdrive/MyDrive/AITempoRun/SynthText/dataset/labels/train_'+str(start)+'.txt',\"w\")\n",
        "        for i in range(wordBB.shape[-1]):\n",
        "               bb = wordBB[:,:,i]\n",
        "               coordinate = \"\"\n",
        "               for j in range(0,4):\n",
        "                  coordinate += str(int(bb[0][j])) +\",\"+str(int(bb[1][j]))+\",\"\n",
        "               coordinate += txt_lst[i]\n",
        "               f.write(coordinate+\"\\n\")\n",
        "        f.close()\n",
        "        start+=1    \n",
        "           \n",
        "        print (\"image name        : \", colorize(Color.RED, k, bold=True))\n",
        "        #print (\"  ** no. of chars : \", colorize(Color.YELLOW, charBB.shape[-1]))\n",
        "        #print (\"  ** no. of words : \", colorize(Color.YELLOW, wordBB.shape[-1]))\n",
        "        #print (\"  ** text         : \", colorize(Color.GREEN, txt_lst))\n",
        "\n",
        "        # if 'q' in input(\"next? ('q' to exit) : \"):\n",
        "        #     break\n",
        "    db.close()\n",
        "    print(start)\n",
        "if __name__=='__main__':\n",
        "    main('results/SynthText.h5')\n",
        "\n"
      ],
      "execution_count": null,
      "outputs": []
    }
  ]
}