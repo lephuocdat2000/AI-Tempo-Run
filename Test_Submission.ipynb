{
  "nbformat": 4,
  "nbformat_minor": 0,
  "metadata": {
    "colab": {
      "name": "Untitled175.ipynb",
      "provenance": [],
      "authorship_tag": "ABX9TyNt762oifsPu8QeXHsZbAqv",
      "include_colab_link": true
    },
    "kernelspec": {
      "name": "python3",
      "display_name": "Python 3"
    },
    "language_info": {
      "name": "python"
    },
    "accelerator": "GPU"
  },
  "cells": [
    {
      "cell_type": "markdown",
      "metadata": {
        "id": "view-in-github",
        "colab_type": "text"
      },
      "source": [
        "<a href=\"https://colab.research.google.com/github/lephuocdat2000/AI-Tempo-Run/blob/main/Test_Submission.ipynb\" target=\"_parent\"><img src=\"https://colab.research.google.com/assets/colab-badge.svg\" alt=\"Open In Colab\"/></a>"
      ]
    },
    {
      "cell_type": "code",
      "metadata": {
        "colab": {
          "base_uri": "https://localhost:8080/"
        },
        "id": "NlGty182_7mh",
        "outputId": "038d7e6e-148a-4e81-d4c9-4b74247a6e83"
      },
      "source": [
        "#mounting drive\n",
        "from google.colab import drive\n",
        "drive.mount('/content/drive')"
      ],
      "execution_count": 1,
      "outputs": [
        {
          "output_type": "stream",
          "text": [
            "Mounted at /content/drive\n"
          ],
          "name": "stdout"
        }
      ]
    },
    {
      "cell_type": "code",
      "metadata": {
        "colab": {
          "base_uri": "https://localhost:8080/",
          "height": 323
        },
        "id": "dNXMoiNzBdNb",
        "outputId": "115d57b6-74c7-49fc-a800-ab4cb1763b0a"
      },
      "source": [
        "!pip install pillow==6.2.2"
      ],
      "execution_count": 7,
      "outputs": [
        {
          "output_type": "stream",
          "text": [
            "Collecting pillow==6.2.2\n",
            "  Using cached Pillow-6.2.2-cp37-cp37m-manylinux1_x86_64.whl (2.1 MB)\n",
            "Installing collected packages: pillow\n",
            "  Attempting uninstall: pillow\n",
            "    Found existing installation: Pillow 2.8.2\n",
            "    Uninstalling Pillow-2.8.2:\n",
            "      Successfully uninstalled Pillow-2.8.2\n",
            "\u001b[31mERROR: pip's dependency resolver does not currently take into account all the packages that are installed. This behaviour is the source of the following dependency conflicts.\n",
            "water 0.1.dev1 requires Pillow==2.8.2, but you have pillow 6.2.2 which is incompatible.\n",
            "bokeh 2.3.3 requires pillow>=7.1.0, but you have pillow 6.2.2 which is incompatible.\n",
            "albumentations 0.1.12 requires imgaug<0.2.7,>=0.2.5, but you have imgaug 0.2.9 which is incompatible.\u001b[0m\n",
            "Successfully installed pillow-6.2.2\n"
          ],
          "name": "stdout"
        },
        {
          "output_type": "display_data",
          "data": {
            "application/vnd.colab-display-data+json": {
              "pip_warning": {
                "packages": [
                  "PIL"
                ]
              }
            }
          },
          "metadata": {
            "tags": []
          }
        }
      ]
    },
    {
      "cell_type": "code",
      "metadata": {
        "colab": {
          "base_uri": "https://localhost:8080/"
        },
        "id": "qg-wlDY9BeVx",
        "outputId": "2a935c51-3081-429f-a407-8b130e2eb652"
      },
      "source": [
        "!pip install -r requirements.txt -f https://download.pytorch.org/whl/torch_stable.html"
      ],
      "execution_count": 3,
      "outputs": [
        {
          "output_type": "stream",
          "text": [
            "\u001b[31mERROR: Could not open requirements file: [Errno 2] No such file or directory: 'requirements.txt'\u001b[0m\n"
          ],
          "name": "stdout"
        }
      ]
    },
    {
      "cell_type": "code",
      "metadata": {
        "colab": {
          "base_uri": "https://localhost:8080/",
          "height": 525
        },
        "id": "6KHXeWwgBhKP",
        "outputId": "eadb94eb-46d9-4b40-96a4-7941e5f9d5f0"
      },
      "source": [
        "!pip install water "
      ],
      "execution_count": 4,
      "outputs": [
        {
          "output_type": "stream",
          "text": [
            "Collecting water\n",
            "  Downloading water-0.1.dev1.tar.gz (1.2 kB)\n",
            "Collecting Pillow==2.8.2\n",
            "  Downloading Pillow-2.8.2.zip (9.4 MB)\n",
            "\u001b[K     |████████████████████████████████| 9.4 MB 9.5 MB/s \n",
            "\u001b[?25hBuilding wheels for collected packages: water, Pillow\n",
            "  Building wheel for water (setup.py) ... \u001b[?25l\u001b[?25hdone\n",
            "  Created wheel for water: filename=water-0.1.dev1-py3-none-any.whl size=1844 sha256=01c41181575e7d1e1866f8c3e8fca53b8c292234ca8954426b67548adc2b3f98\n",
            "  Stored in directory: /root/.cache/pip/wheels/4b/77/3c/6272eae3ae839ae94fe0b6d7ddcbd525a5c1729d2c440da4ff\n",
            "  Building wheel for Pillow (setup.py) ... \u001b[?25l\u001b[?25hdone\n",
            "  Created wheel for Pillow: filename=Pillow-2.8.2-cp37-cp37m-linux_x86_64.whl size=1043330 sha256=f9ced7ebf33f25e74a8681d435d1af141495fbf1733bb18051cdf5c9648cc791\n",
            "  Stored in directory: /root/.cache/pip/wheels/bf/98/61/cc6808046ba818ffe3aff2b8d699fa5493362de36301aa130d\n",
            "Successfully built water Pillow\n",
            "Installing collected packages: Pillow, water\n",
            "  Attempting uninstall: Pillow\n",
            "    Found existing installation: Pillow 6.2.2\n",
            "    Uninstalling Pillow-6.2.2:\n",
            "      Successfully uninstalled Pillow-6.2.2\n",
            "\u001b[31mERROR: pip's dependency resolver does not currently take into account all the packages that are installed. This behaviour is the source of the following dependency conflicts.\n",
            "torchvision 0.10.0+cu102 requires pillow>=5.3.0, but you have pillow 2.8.2 which is incompatible.\n",
            "scikit-image 0.16.2 requires pillow>=4.3.0, but you have pillow 2.8.2 which is incompatible.\n",
            "bokeh 2.3.3 requires pillow>=7.1.0, but you have pillow 2.8.2 which is incompatible.\n",
            "albumentations 0.1.12 requires imgaug<0.2.7,>=0.2.5, but you have imgaug 0.2.9 which is incompatible.\u001b[0m\n",
            "Successfully installed Pillow-2.8.2 water-0.1.dev1\n"
          ],
          "name": "stdout"
        },
        {
          "output_type": "display_data",
          "data": {
            "application/vnd.colab-display-data+json": {
              "pip_warning": {
                "packages": [
                  "PIL"
                ]
              }
            }
          },
          "metadata": {
            "tags": []
          }
        }
      ]
    },
    {
      "cell_type": "code",
      "metadata": {
        "colab": {
          "base_uri": "https://localhost:8080/"
        },
        "id": "k0qbOwyXATnL",
        "outputId": "0b516159-74e5-40ff-f7f1-d139241b860f"
      },
      "source": [
        "%cd /content/drive/MyDrive/CRAFT"
      ],
      "execution_count": 13,
      "outputs": [
        {
          "output_type": "stream",
          "text": [
            "/content/drive/MyDrive/CRAFT\n"
          ],
          "name": "stdout"
        }
      ]
    },
    {
      "cell_type": "code",
      "metadata": {
        "colab": {
          "base_uri": "https://localhost:8080/"
        },
        "id": "_vpOxXL1AVm-",
        "outputId": "c3fd76f2-2f27-494c-8d59-e0268713f808"
      },
      "source": [
        "!python test.py"
      ],
      "execution_count": 14,
      "outputs": [
        {
          "output_type": "stream",
          "text": [
            "Loading weights from checkpoint /content/drive/MyDrive/CRAFT/results/CRAFT_clr_2.pth\n",
            "/usr/local/lib/python3.7/dist-packages/torch/nn/functional.py:718: UserWarning: Named tensors and all their associated APIs are an experimental feature and subject to change. Please do not use them for anything important until they are released as stable. (Triggered internally at  /pytorch/c10/core/TensorImpl.h:1156.)\n",
            "  return torch.max_pool2d(input, kernel_size, stride, padding, dilation, ceil_mode)\n",
            "elapsed time : 446.50302147865295s\n"
          ],
          "name": "stdout"
        }
      ]
    },
    {
      "cell_type": "code",
      "metadata": {
        "colab": {
          "base_uri": "https://localhost:8080/"
        },
        "id": "HJACZ4q6Clej",
        "outputId": "1be9bcc6-6089-4100-c676-6b5992aaf04e"
      },
      "source": [
        "#chuyen dinh dang file test \n",
        "import os\n",
        "%cd /content/drive/MyDrive/CRAFT/tested_image\n",
        "directory = os.listdir('/content/drive/MyDrive/CRAFT/tested_image')\n",
        "count = 0\n",
        "text_file = open(\"aaaa.txt\",\"a\")\n",
        "for file in directory:\n",
        "\tif file.endswith(\".txt\"):\n",
        "\t\tcount = count + 1\n",
        "\t\twith open(file) as f:\n",
        "\t\t\tcontent = f.readlines()\n",
        "\t# you may also want to remove whitespace characters like `\\n` at the end of each line\n",
        "\t\tcontent = [x.strip() for x in content] \n",
        "\t\tfor i in range(len(content)) :\n",
        "\t\t\ttext_file.write(\"{0},{1}\\n\".format(file,content[i]))\n",
        "   \n",
        "print(count)"
      ],
      "execution_count": 15,
      "outputs": [
        {
          "output_type": "stream",
          "text": [
            "/content/drive/MyDrive/CRAFT/tested_image\n",
            "987\n"
          ],
          "name": "stdout"
        }
      ]
    },
    {
      "cell_type": "code",
      "metadata": {
        "colab": {
          "base_uri": "https://localhost:8080/"
        },
        "id": "IL4HKHM-Cm_L",
        "outputId": "e1f823c4-b955-4fff-bad6-6e7a75b9f4a9"
      },
      "source": [
        "%cd /content/drive/MyDrive/CRAFT/result\n",
        "with open('/content/drive/MyDrive/CRAFT/tested_image/aaaa.txt') as f:\n",
        "  contents = f.readlines()\n",
        "# you may also want to remove whitespace characters like `\\n` at the end of each line\n",
        "contents = [x.strip() for x in contents] \n",
        "\n",
        "for i in range(len(contents)):\n",
        "  line = contents[i].split(',')\n",
        "  file_name = line[0]\n",
        "  line[0] = file_name[4:-4] + \".jpg\"\n",
        "  text_file = open('test.txt', \"a\")\n",
        "  text_file.write(\"{0},{1},{2},{3},{4},{5},{6},{7},{8}\\n\".format(line[0],line[1],line[2],line[3],line[4],line[5],line[6],line[7],line[8]))"
      ],
      "execution_count": 16,
      "outputs": [
        {
          "output_type": "stream",
          "text": [
            "/content/drive/MyDrive/CRAFT/result\n"
          ],
          "name": "stdout"
        }
      ]
    },
    {
      "cell_type": "code",
      "metadata": {
        "id": "0PgBpfApCpCV"
      },
      "source": [
        "import math, requests\n",
        "\n",
        "def submit_prediction(df, comment='', **kwargs):\n",
        "    TOKEN='332990f932bbdf6b438d187c5b696f25bf33b88b64a7f2dc67a6409da6398850173b7036acc773a361fae30b42b68f83816f20688df9434ffed56a2e51049b0b'\n",
        "    URL='http://submission.mmlab.uit.edu.vn/api/submissions'\n",
        "    r = requests.post(URL, headers={'Authorization': 'Bearer {}'.format(TOKEN)},files={'datafile': open(df, 'rb')},data={'comment':comment})\n",
        "    if r.status_code == 429:\n",
        "        raise Exception('Submissions are too close. Next submission is only allowed in {} seconds.'.format(int(math.ceil(int(r.headers['x-rate-limit-remaining']) / 1000.0))))\n",
        "    if r.status_code != 200:\n",
        "        raise Exception(r.text)\n",
        "        \n",
        "submit_prediction('/content/drive/MyDrive/CRAFT/result/test.txt', comment='my submission')"
      ],
      "execution_count": 17,
      "outputs": []
    }
  ]
}