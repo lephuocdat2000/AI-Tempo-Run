{
  "nbformat": 4,
  "nbformat_minor": 0,
  "metadata": {
    "colab": {
      "name": "Data Processing.ipynb",
      "provenance": [],
      "authorship_tag": "ABX9TyPixenZvD6IN4XWacxm4BnM",
      "include_colab_link": true
    },
    "kernelspec": {
      "name": "python3",
      "display_name": "Python 3"
    },
    "language_info": {
      "name": "python"
    }
  },
  "cells": [
    {
      "cell_type": "markdown",
      "metadata": {
        "id": "view-in-github",
        "colab_type": "text"
      },
      "source": [
        "<a href=\"https://colab.research.google.com/github/lephuocdat2000/AI-Tempo-Run/blob/main/Data_Processing.ipynb\" target=\"_parent\"><img src=\"https://colab.research.google.com/assets/colab-badge.svg\" alt=\"Open In Colab\"/></a>"
      ]
    },
    {
      "cell_type": "code",
      "metadata": {
        "colab": {
          "base_uri": "https://localhost:8080/"
        },
        "id": "4eaPejmcxpgD",
        "outputId": "0092c9cc-b1f2-4092-88a1-150dbd63870d"
      },
      "source": [
        "from google.colab import drive\n",
        "drive.mount('/content/gdrive')"
      ],
      "execution_count": 1,
      "outputs": [
        {
          "output_type": "stream",
          "text": [
            "Mounted at /content/gdrive\n"
          ],
          "name": "stdout"
        }
      ]
    },
    {
      "cell_type": "code",
      "metadata": {
        "colab": {
          "base_uri": "https://localhost:8080/"
        },
        "id": "-n8ttX8Sy70K",
        "outputId": "c20abeb3-e338-4fd7-87c2-968b221c714b"
      },
      "source": [
        "cd /content/gdrive/MyDrive/AITempoRun/train"
      ],
      "execution_count": 3,
      "outputs": [
        {
          "output_type": "stream",
          "text": [
            "/content/gdrive/MyDrive/AITempoRun/train\n"
          ],
          "name": "stdout"
        }
      ]
    },
    {
      "cell_type": "code",
      "metadata": {
        "id": "-R5zshAa3Zy5"
      },
      "source": [
        "def IOU_Calculation(gt_bbox,pred_bbox):\n",
        "  xmin_gt,ymin_gt,xmax_gt,ymax_gt = gt_bbox\n",
        "  xmin_pre,ymin_pre,xmax_pre,ymax_pre = pred_bbox\n",
        "  if (xmax_gt < xmin_pre) or (ymax_gt<ymin_pre) or (xmin_gt > xmax_pre) or (ymin_gt>ymax_pre): return 0.0\n",
        "  GT_bbox_area = (xmax_gt - xmin_gt + 1 ) * (ymax_gt - ymin_gt + 1 )\n",
        "  Pre_bbox_area = (xmax_pre - xmin_pre + 1 ) * (ymax_pre - ymin_pre + 1 )\n",
        "  xmin = max(xmin_gt,xmin_pre)\n",
        "  ymin = max(ymin_gt,ymin_pre)\n",
        "  xmax = min(xmax_gt,xmax_pre)\n",
        "  ymax = min(ymax_gt,ymax_pre)\n",
        "  intersection_area = (xmax-xmin+1)*(ymax-ymin+1)\n",
        "  union_area = GT_bbox_area + Pre_bbox_area - intersection_area\n",
        "  return intersection_area/union_area"
      ],
      "execution_count": 23,
      "outputs": []
    },
    {
      "cell_type": "code",
      "metadata": {
        "colab": {
          "base_uri": "https://localhost:8080/"
        },
        "id": "giRePyK2zja8",
        "outputId": "80f3f0cf-3a9b-4ae5-a437-b8d4b354036b"
      },
      "source": [
        "import os\n",
        "import numpy as np\n",
        "\n",
        "label_dict = os.listdir('labels')\n",
        "t=1\n",
        "for file_name in label_dict:\n",
        "    f = open(os.path.join('labels',file_name),\"r\").readlines()\n",
        "    print(file_name)\n",
        "    mark = np.zeros((len(f),))\n",
        "    \n",
        "    for i in range(len(f)-1):\n",
        "       fence = f[i].rfind(\",\") \n",
        "       coordinate = f[i][0:fence].split(\",\")\n",
        "       coordinate = [int(i) for i in coordinate]\n",
        "       if mark[i] ==1: continue\n",
        "    #    mark[i]=1\n",
        "    #    max,coordinate= -1,None\n",
        "    #    for j in range(i+1,len(f)):   \n",
        "    #       if f[i][32:] == f[j][32:]:\n",
        "    #           IoU = IOU_Calculation(f[i][0:32],f[j][0:32])\n",
        "    #           if max < IoU: \n",
        "    #             max = IoU\n",
        "    #             coordinate = f[j][0:32]\n",
        "    if (t==1): break "
      ],
      "execution_count": 34,
      "outputs": [
        {
          "output_type": "stream",
          "text": [
            "train_0241.txt\n",
            "[222, 189, 278, 194, 275, 213, 217, 211]\n",
            "[197, 110, 282, 120, 278, 146, 188, 140]\n",
            "[357, 255, 384, 255, 383, 273, 356, 272]\n",
            "[216, 192, 282, 197, 276, 211, 212, 211]\n",
            "[197, 105, 285, 119, 286, 152, 193, 145]\n",
            "[224, 194, 285, 197, 282, 219, 221, 213]\n",
            "[181, 248, 238, 248, 240, 274, 182, 272]\n",
            "[122, 147, 195, 155, 182, 183, 115, 179]\n",
            "[251, 221, 318, 224, 315, 251, 259, 247]\n",
            "[221, 193, 281, 196, 277, 218, 221, 213]\n",
            "[112, 208, 186, 209, 187, 240, 112, 240]\n",
            "[192, 217, 245, 223, 245, 244, 193, 240]\n",
            "[255, 163, 309, 167, 311, 188, 254, 182]\n",
            "[196, 109, 285, 119, 275, 149, 192, 143]\n",
            "[321, 250, 352, 251, 353, 271, 317, 271]\n",
            "[123, 148, 194, 152, 189, 181, 119, 177]\n",
            "[192, 107, 289, 117, 280, 148, 192, 143]\n",
            "[316, 249, 350, 249, 350, 271, 317, 269]\n",
            "[254, 222, 314, 222, 316, 254, 260, 250]\n",
            "[138, 102, 185, 108, 188, 143, 138, 139]\n",
            "[252, 222, 320, 225, 313, 246, 253, 244]\n",
            "[117, 151, 197, 158, 190, 176, 107, 171]\n",
            "[371, 119, 417, 125, 407, 164, 372, 160]\n",
            "[122, 148, 196, 152, 191, 189, 118, 178]\n",
            "[318, 249, 350, 251, 354, 274, 320, 272]\n",
            "[283, 192, 312, 196, 315, 219, 285, 215]\n",
            "[317, 247, 352, 250, 351, 271, 317, 269]\n",
            "[205, 284, 255, 283, 256, 305, 199, 303]\n",
            "[285, 193, 315, 197, 316, 219, 285, 214]\n",
            "[245, 251, 266, 253, 269, 274, 243, 272]\n",
            "[318, 222, 386, 230, 386, 249, 316, 244]\n",
            "[386, 256, 418, 257, 418, 272, 389, 271]\n",
            "[289, 121, 370, 130, 364, 163, 290, 156]\n",
            "[190, 102, 283, 115, 275, 149, 196, 145]\n",
            "[253, 221, 316, 224, 314, 251, 257, 246]\n",
            "[283, 192, 314, 198, 314, 218, 282, 215]\n",
            "[122, 149, 193, 155, 190, 184, 114, 182]\n",
            "[116, 138, 187, 148, 189, 180, 115, 174]\n",
            "[317, 166, 412, 176, 410, 196, 317, 190]\n",
            "[195, 156, 247, 157, 244, 185, 198, 179]\n",
            "[261, 287, 302, 288, 300, 305, 262, 303]\n",
            "[254, 224, 318, 227, 316, 249, 256, 247]\n",
            "[77, 242, 107, 244, 110, 268, 78, 269]\n",
            "[251, 224, 312, 224, 313, 247, 254, 244]\n",
            "[319, 249, 349, 250, 353, 273, 319, 273]\n",
            "[188, 115, 290, 124, 282, 143, 185, 135]\n",
            "[220, 190, 278, 194, 278, 218, 220, 215]\n",
            "[320, 249, 352, 250, 353, 271, 319, 270]\n",
            "[219, 188, 277, 193, 279, 220, 219, 213]\n",
            "[282, 196, 317, 199, 317, 217, 282, 213]\n",
            "[112, 243, 142, 246, 137, 269, 110, 267]\n",
            "[284, 194, 316, 198, 316, 218, 284, 215]\n"
          ],
          "name": "stdout"
        }
      ]
    },
    {
      "cell_type": "code",
      "metadata": {
        "id": "v4vymRp60UP0"
      },
      "source": [
        "  "
      ],
      "execution_count": null,
      "outputs": []
    }
  ]
}