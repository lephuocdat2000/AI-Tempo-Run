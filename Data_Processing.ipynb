{
  "nbformat": 4,
  "nbformat_minor": 0,
  "metadata": {
    "colab": {
      "name": "Data Processing.ipynb",
      "provenance": [],
      "mount_file_id": "https://github.com/lephuocdat2000/AI-Tempo-Run/blob/main/Data_Processing.ipynb",
      "authorship_tag": "ABX9TyPLOuDjMILMOvel7N93QT3J",
      "include_colab_link": true
    },
    "kernelspec": {
      "name": "python3",
      "display_name": "Python 3"
    },
    "language_info": {
      "name": "python"
    }
  },
  "cells": [
    {
      "cell_type": "markdown",
      "metadata": {
        "id": "view-in-github",
        "colab_type": "text"
      },
      "source": [
        "<a href=\"https://colab.research.google.com/github/lephuocdat2000/AI-Tempo-Run/blob/main/Data_Processing.ipynb\" target=\"_parent\"><img src=\"https://colab.research.google.com/assets/colab-badge.svg\" alt=\"Open In Colab\"/></a>"
      ]
    },
    {
      "cell_type": "code",
      "metadata": {
        "colab": {
          "base_uri": "https://localhost:8080/"
        },
        "id": "4eaPejmcxpgD",
        "outputId": "1c8660a0-4c1a-479b-b4b1-f72e23a3131e"
      },
      "source": [
        "from google.colab import drive\n",
        "drive.mount('/content/gdrive')"
      ],
      "execution_count": 1,
      "outputs": [
        {
          "output_type": "stream",
          "text": [
            "Mounted at /content/gdrive\n"
          ],
          "name": "stdout"
        }
      ]
    },
    {
      "cell_type": "code",
      "metadata": {
        "id": "-R5zshAa3Zy5"
      },
      "source": [
        "def Fixed_Coordinate(bbox):\n",
        "  bbox = np.array(bbox)\n",
        "  bbox = np.reshape(bbox,(4,2))\n",
        "  xmin,xmax = np.amin(bbox[:,0],axis = 0),np.amax(bbox[:,0],axis=0)\n",
        "  ymin,ymax = np.amin(bbox[:,1],axis=0), np.amax(bbox[:,1],axis=0)\n",
        "  return xmin,ymin,xmax,ymax\n",
        "\n",
        "def IOU_Calculation(gt_bbox,training_bbox):\n",
        "  xmin_gt,ymin_gt,xmax_gt,ymax_gt = Fixed_Coordinate(gt_bbox)\n",
        "  xmin,ymin,xmax,ymax = Fixed_Coordinate(training_bbox)\n",
        "  if (xmax_gt < xmin) or (ymax_gt<ymin) or (xmin_gt > xmax) or (ymin_gt>ymax): return 0.0\n",
        "  GT_bbox_area = (xmax_gt - xmin_gt + 1 ) * (ymax_gt - ymin_gt + 1 )\n",
        "  Pre_bbox_area = (xmax - xmin + 1 ) * (ymax - ymin + 1 )\n",
        "  xmin = max(xmin_gt,xmin)\n",
        "  ymin = max(ymin_gt,ymin)\n",
        "  xmax = min(xmax_gt,xmax)\n",
        "  ymax = min(ymax_gt,ymax)\n",
        "  intersection_area = (xmax-xmin+1)*(ymax-ymin+1)\n",
        "  union_area = GT_bbox_area + Pre_bbox_area - intersection_area\n",
        "  return intersection_area/union_area"
      ],
      "execution_count": 2,
      "outputs": []
    },
    {
      "cell_type": "code",
      "metadata": {
        "id": "F1mzPkK5Ff8H",
        "colab": {
          "base_uri": "https://localhost:8080/"
        },
        "outputId": "f9da3059-e6dd-4256-f59c-9b98b5cf328f"
      },
      "source": [
        "cd /content/gdrive/MyDrive/AITempoRun"
      ],
      "execution_count": 3,
      "outputs": [
        {
          "output_type": "stream",
          "text": [
            "/content/gdrive/MyDrive/AITempoRun\n"
          ],
          "name": "stdout"
        }
      ]
    },
    {
      "cell_type": "code",
      "metadata": {
        "id": "yfvRUW13XFGL"
      },
      "source": [
        "import os\n",
        "import numpy as np\n",
        "import cv2\n",
        "import matplotlib.pyplot as plt"
      ],
      "execution_count": 4,
      "outputs": []
    },
    {
      "cell_type": "markdown",
      "metadata": {
        "id": "qF_vPXp748fU"
      },
      "source": [
        "Using CRAFT"
      ]
    },
    {
      "cell_type": "code",
      "metadata": {
        "id": "EXeUuVoV5JQB"
      },
      "source": [
        "dictionary = os.listdir('result')\n",
        "\n",
        "for file in dictionary:\n",
        "    if file.endswith(\".txt\"):\n",
        "       f1 = open(os.path.join('result',file),\"r\").readlines()\n",
        "       if len(f1)!=0:\n",
        "          image = cv2.imread(os.path.join('train/images',file[4:-4]+'.jpg'))\n",
        "          f2 = open(os.path.join('train/labels',file[4:]),\"r\").readlines()\n",
        "          f3 = open(os.path.join('Preprocessing Data/test',file[4:]),\"w\")\n",
        "          mark = np.zeros((len(f2),))\n",
        "          for i in range(len(f1)):\n",
        "              coordinate1 = f1[i].split(\",\")\n",
        "              coordinate1 = [int(i) for i in coordinate1]\n",
        "              IoU_max, selection = 0.0,coordinate1\n",
        "              for j in range(len(f2)):\n",
        "                if mark[j]==0:\n",
        "                    fence = f2[j].rfind(\",\")\n",
        "                    coordinate2 = f2[j][0:fence].split(\",\")\n",
        "                    coordinate2 = [int(i) for i in coordinate2]\n",
        "                    IoU = IOU_Calculation(coordinate1,coordinate2)\n",
        "                    if IoU >= 0.1: \n",
        "                        mark[j] = 1\n",
        "                        if IoU_max<IoU : IoU_max,selection = IoU,coordinate2\n",
        "              string = \"\"\n",
        "              for idx,coor in enumerate(selection):\n",
        "                    string = string + str(coor) \n",
        "                    if idx<len(selection)-1: string+=\",\"\n",
        "              f3.writelines(string+\"\\n\")      \n",
        "          # missing = np.where(mark==0)[0]\n",
        "          # print(file,missing)\n",
        "          # if len(missing!=0):\n",
        "          #     for i in missing:\n",
        "          #        fence = f2[i].rfind(\",\")\n",
        "          #        miss_coordinate = f2[i][0:fence]\n",
        "          #        f3.writelines(miss_coordinate+\"\\n\")   \n",
        "          f3.close()\n",
        "          cv2.imwrite(os.path.join('Preprocessing Data/images',file[4:-4]+'.jpg'),image)                       "
      ],
      "execution_count": null,
      "outputs": []
    },
    {
      "cell_type": "markdown",
      "metadata": {
        "id": "yP2qScz_4-lv"
      },
      "source": [
        "Average IOU"
      ]
    },
    {
      "cell_type": "code",
      "metadata": {
        "id": "uf2ohXleWvVi",
        "colab": {
          "base_uri": "https://localhost:8080/"
        },
        "outputId": "511f51c8-4e55-492d-e9ae-e33480cb5eef"
      },
      "source": [
        "label_dict = os.listdir('Preprocessing Data/Labeling with CRAFT')\n",
        "IoU = 0\n",
        "count = 0\n",
        "for file in label_dict:\n",
        "   f1 = open(os.path.join('result',\"res_\"+file),\"r\").readlines()\n",
        "   f2 = open(os.path.join('Preprocessing Data/Labeling with CRAFT',file),\"r\").readlines()\n",
        "   if len(f1)!=len(f2): \n",
        "     print(file)\n",
        "     break\n",
        "   for i in range(len(f1)):\n",
        "        coordinate1 = f1[i].split(\",\")\n",
        "        coordinate1 = [int(i) for i in coordinate1]\n",
        "        coordinate2 = f2[i].strip().split(\",\")\n",
        "        coordinate2 = [int(i) for i in coordinate2]\n",
        "        IoU += IOU_Calculation(coordinate1,coordinate2)\n",
        "        count+=1\n",
        "\n",
        "print(IoU / count)"
      ],
      "execution_count": null,
      "outputs": [
        {
          "output_type": "stream",
          "text": [
            "0.7936060866031666\n"
          ],
          "name": "stdout"
        }
      ]
    },
    {
      "cell_type": "markdown",
      "metadata": {
        "id": "sRE_jEo15Ebe"
      },
      "source": [
        "Average Coordinate"
      ]
    },
    {
      "cell_type": "code",
      "metadata": {
        "id": "UEQ4JrnE05AV"
      },
      "source": [
        "dictionary = os.listdir('Preprocessing Data/images')\n",
        "cc = 0\n",
        "for file in dictionary:\n",
        "   f1 = open(os.path.join('train/labels',file[:-4]+'.txt'),\"r\").readlines()\n",
        "   f2 = open(os.path.join('Preprocessing Data/Average Coordinate',file[:-4]+'.txt'),\"w\")\n",
        "   cc+=1\n",
        "   mask = np.zeros((len(f1),))\n",
        "   for i in range(len(f1)):\n",
        "        if mask[i]==0:\n",
        "            fence = f1[i].rfind(\",\")\n",
        "            coordinate1 = f1[i][0:fence].split(\",\")\n",
        "            coordinate1 = [int(i) for i in coordinate1]\n",
        "            average_coor = np.array(coordinate1)\n",
        "            mask[i],count=1,1\n",
        "            for j in range(i,len(f1)):\n",
        "              if mask[j]==0:    \n",
        "                fence = f1[j].rfind(\",\")\n",
        "                coordinate2 = f1[j][0:fence].split(\",\")\n",
        "                coordinate2 = [int(i) for i in coordinate2]\n",
        "                IoU = IOU_Calculation(coordinate1,coordinate2)\n",
        "                if IoU >= 0.1: \n",
        "                      mask[j]=1\n",
        "                      average_coor += np.array(coordinate2)\n",
        "                      count+=1\n",
        "            average_coor = average_coor//count\n",
        "            string = \"\"\n",
        "            for idx,coor in enumerate(average_coor):\n",
        "                    string = string + str(coor) \n",
        "                    if idx<len(average_coor)-1: string+=\",\"\n",
        "            f2.writelines(string+\"\\n\") \n",
        "   f2.close()   \n",
        "\n",
        "print(cc)"
      ],
      "execution_count": null,
      "outputs": []
    },
    {
      "cell_type": "markdown",
      "metadata": {
        "id": "03XKrHcCC09w"
      },
      "source": [
        "Inverse"
      ]
    },
    {
      "cell_type": "code",
      "metadata": {
        "id": "glON8VB9G2PH"
      },
      "source": [
        "import itertools "
      ],
      "execution_count": 5,
      "outputs": []
    },
    {
      "cell_type": "code",
      "metadata": {
        "id": "TDLDK8Q8RAC1"
      },
      "source": [
        "def Check_Coordinate(coor_lst,height,width):\n",
        "    for i in range(0,7,2):\n",
        "       if coor_lst[i] >= width: return False\n",
        "    for i in range(1,8,2):\n",
        "      if coor_lst[i] >= height: return False\n",
        "    return True"
      ],
      "execution_count": 6,
      "outputs": []
    },
    {
      "cell_type": "code",
      "metadata": {
        "id": "S3u8Ttn0C0mo"
      },
      "source": [
        "dictionary = os.listdir('train/labels')\n",
        "\n",
        "for file in dictionary:\n",
        "    dicts = {}\n",
        "    f1 = open(os.path.join('result',\"res_\"+file),\"r\").readlines()\n",
        "    if len(f1)!=0:\n",
        "        f2 = open(os.path.join('train/labels',file),\"r\").readlines()\n",
        "        f3 = open(os.path.join('Preprocessing Data/Inverse',file),\"w\")\n",
        "        image = cv2.imread(os.path.join('Preprocessing Data/images',file[:-4]+'.jpg'))\n",
        "        height,width = image.shape[0],image.shape[1]\n",
        "        #create IoU matrix and coordinate dictionary\n",
        "        if len(f2)>1: \n",
        "          list_indexes = list(itertools.combinations(range(len(f2)),2))\n",
        "          IoU_train_label = np.zeros((len(f2),len(f2)))\n",
        "          for i,pair in enumerate(itertools.combinations(f2,r=2)):\n",
        "              index_1 = int(list_indexes[i][0])\n",
        "              index_2 = int(list_indexes[i][1])\n",
        "              if index_1 in dicts:  coordinate1 = dicts[index_1]\n",
        "              else: \n",
        "                  coordinate1 = f2[index_1]\n",
        "                  fence = coordinate1.rfind(\",\")\n",
        "                  coordinate1 = coordinate1[0:fence]\n",
        "                  coordinate1 = [int(i) for i in coordinate1.split(\",\")]\n",
        "                  dicts[index_1] = coordinate1 \n",
        "              if index_2 in dicts: coordinate2 = dicts[index_2]\n",
        "              else: \n",
        "                  coordinate2 = f2[index_2]\n",
        "                  fence = coordinate2.rfind(\",\")\n",
        "                  coordinate2 = coordinate2[0:fence]\n",
        "                  coordinate2 = [int(i) for i in coordinate2.split(\",\")]\n",
        "                  dicts[index_2] = coordinate2 \n",
        "              IoU_train_label[index_1][index_2] = IOU_Calculation(coordinate1,coordinate2)  \n",
        "          \n",
        "          mask = np.zeros((len(f2),))\n",
        "          for i in range(len(f2)):\n",
        "            if mask[i]==0:\n",
        "              overlaps = np.where(IoU_train_label[i,:]>0.2)[0]\n",
        "              max_ , selection,text = 0.0,dicts[i],f2[i][f2[i].rfind(\",\")+1:].strip()\n",
        "              for j in range(len(f1)):\n",
        "                  coordinate1 = dicts[i]\n",
        "                  coordinate2 =[int(i) for i in f1[j].split(\",\")]\n",
        "                  IoU = IOU_Calculation(coordinate1,coordinate2)\n",
        "                  if IoU >= 0.1:\n",
        "                    max_,mask[i] = IoU,1 \n",
        "                    for idx in overlaps:\n",
        "                        IoU_ = IOU_Calculation(dicts[idx],coordinate2)\n",
        "                        mask[idx] = 1\n",
        "                        if IoU_ > max_: max_,selection,text= IoU_, dicts[idx],f2[idx][f2[idx].rfind(\",\")+1:].strip()\n",
        "\n",
        "              if max_==0.0:\n",
        "                  total = np.array(selection)\n",
        "                  for idx in overlaps:\n",
        "                     total += np.array(dicts[idx])\n",
        "                     mask[idx] = 1\n",
        "                  average = (total // (len(overlaps)+1)).astype('int')\n",
        "                  max_= IOU_Calculation(selection,average)\n",
        "                  for idx in overlaps:\n",
        "                     IoU = IOU_Calculation(dicts[idx],average)\n",
        "                     if IoU > max_: \n",
        "                       max_ = IoU\n",
        "                       selection = dicts[idx]   \n",
        "                       text = f2[idx][f2[idx].rfind(\",\")+1:].strip()\n",
        "              if Check_Coordinate(selection,height,width)== True:\n",
        "                  string = \"\"\n",
        "                  for idx,coor in enumerate(selection):\n",
        "                        string = string + str(coor) + \",\"\n",
        "                  string += text\n",
        "                  f3.writelines(string+'\\n')\n",
        "          f3.close()    \n",
        "        else: \n",
        "         fence = f2[0].rfind(\",\")\n",
        "         coordinate = f2[0][0:fence].split(\",\")\n",
        "         text = f2[0][fence+1:].strip()\n",
        "         coordinate = [int(i) for i in coordinate]\n",
        "         if Check_Coordinate(coordinate,height,width)== True:\n",
        "            string = \"\"\n",
        "            for idx,coor in enumerate(coordinate):\n",
        "                string = string + str(coor) + \",\"\n",
        "            string+=text\n",
        "            f3.writelines(string+'\\n')\n",
        "         f3.close()    \n",
        "    #break\n",
        "           "
      ],
      "execution_count": 14,
      "outputs": []
    },
    {
      "cell_type": "code",
      "metadata": {
        "id": "fZ-EBsvgZsha",
        "outputId": "92f0e78b-9dd3-495f-c7d2-198b18ab3003",
        "colab": {
          "base_uri": "https://localhost:8080/"
        }
      },
      "source": [
        "len(os.listdir('/content/gdrive/MyDrive/AITempoRun/Preprocessing Data/images'))"
      ],
      "execution_count": 19,
      "outputs": [
        {
          "output_type": "execute_result",
          "data": {
            "text/plain": [
              "999"
            ]
          },
          "metadata": {
            "tags": []
          },
          "execution_count": 19
        }
      ]
    },
    {
      "cell_type": "code",
      "metadata": {
        "id": "BPxHqicuZzkW",
        "outputId": "12c40a53-e660-491a-91c1-ed32f0cf7132",
        "colab": {
          "base_uri": "https://localhost:8080/"
        }
      },
      "source": [
        ""
      ],
      "execution_count": 17,
      "outputs": [
        {
          "output_type": "stream",
          "text": [
            "train_0765.txt\n",
            "train_1040.txt\n",
            "train_1120.txt\n",
            "train_1143.txt\n",
            "train_0067.txt\n"
          ],
          "name": "stdout"
        }
      ]
    },
    {
      "cell_type": "code",
      "metadata": {
        "id": "4CodPczgaNCc"
      },
      "source": [
        ""
      ],
      "execution_count": null,
      "outputs": []
    }
  ]
}