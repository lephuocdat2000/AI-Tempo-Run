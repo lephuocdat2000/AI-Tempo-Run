{
  "nbformat": 4,
  "nbformat_minor": 0,
  "metadata": {
    "colab": {
      "name": "Data Processing.ipynb",
      "provenance": [],
      "authorship_tag": "ABX9TyOGEhucwHxjQqccsPL4AC5J",
      "include_colab_link": true
    },
    "kernelspec": {
      "name": "python3",
      "display_name": "Python 3"
    },
    "language_info": {
      "name": "python"
    }
  },
  "cells": [
    {
      "cell_type": "markdown",
      "metadata": {
        "id": "view-in-github",
        "colab_type": "text"
      },
      "source": [
        "<a href=\"https://colab.research.google.com/github/lephuocdat2000/AI-Tempo-Run/blob/main/Data_Processing.ipynb\" target=\"_parent\"><img src=\"https://colab.research.google.com/assets/colab-badge.svg\" alt=\"Open In Colab\"/></a>"
      ]
    },
    {
      "cell_type": "code",
      "metadata": {
        "colab": {
          "base_uri": "https://localhost:8080/"
        },
        "id": "4eaPejmcxpgD",
        "outputId": "bb758385-f5eb-4d81-e49a-a0c478480adf"
      },
      "source": [
        "from google.colab import drive\n",
        "drive.mount('/content/gdrive',force_remount=True)"
      ],
      "execution_count": 30,
      "outputs": [
        {
          "output_type": "stream",
          "text": [
            "Mounted at /content/gdrive\n"
          ],
          "name": "stdout"
        }
      ]
    },
    {
      "cell_type": "code",
      "metadata": {
        "id": "-R5zshAa3Zy5"
      },
      "source": [
        "def Fixed_Coordinate(bbox):\n",
        "  bbox = np.array(bbox)\n",
        "  bbox = np.reshape(bbox,(4,2))\n",
        "  xmin,xmax = np.amin(bbox[:,0],axis = 0),np.amax(bbox[:,0],axis=0)\n",
        "  ymin,ymax = np.amin(bbox[:,1],axis=0), np.amax(bbox[:,1],axis=0)\n",
        "  return xmin,ymin,xmax,ymax\n",
        "\n",
        "def IOU_Calculation(gt_bbox,training_bbox):\n",
        "  xmin_gt,ymin_gt,xmax_gt,ymax_gt = Fixed_Coordinate(gt_bbox)\n",
        "  xmin,ymin,xmax,ymax = Fixed_Coordinate(training_bbox)\n",
        "  if (xmax_gt < xmin) or (ymax_gt<ymin) or (xmin_gt > xmax) or (ymin_gt>ymax): return 0.0\n",
        "  GT_bbox_area = (xmax_gt - xmin_gt + 1 ) * (ymax_gt - ymin_gt + 1 )\n",
        "  Pre_bbox_area = (xmax - xmin + 1 ) * (ymax - ymin + 1 )\n",
        "  xmin = max(xmin_gt,xmin)\n",
        "  ymin = max(ymin_gt,ymin)\n",
        "  xmax = min(xmax_gt,xmax)\n",
        "  ymax = min(ymax_gt,ymax)\n",
        "  intersection_area = (xmax-xmin+1)*(ymax-ymin+1)\n",
        "  union_area = GT_bbox_area + Pre_bbox_area - intersection_area\n",
        "  return intersection_area/union_area"
      ],
      "execution_count": 45,
      "outputs": []
    },
    {
      "cell_type": "code",
      "metadata": {
        "id": "F1mzPkK5Ff8H",
        "colab": {
          "base_uri": "https://localhost:8080/"
        },
        "outputId": "0c63c59e-7f0c-41e0-d083-3f13881d55bd"
      },
      "source": [
        "cd /content/gdrive/MyDrive/AITempoRun"
      ],
      "execution_count": 36,
      "outputs": [
        {
          "output_type": "stream",
          "text": [
            "/content/gdrive/MyDrive/AITempoRun\n"
          ],
          "name": "stdout"
        }
      ]
    },
    {
      "cell_type": "code",
      "metadata": {
        "colab": {
          "base_uri": "https://localhost:8080/",
          "height": 414
        },
        "id": "giRePyK2zja8",
        "outputId": "d1365908-a29d-4a50-ea89-2259163aff07"
      },
      "source": [
        "import os\n",
        "import numpy as np\n",
        "import cv2\n",
        "\n",
        "dictionary = os.listdir('result')\n",
        "\n",
        "for file in dictionary:\n",
        "    if file.endswith(\".txt\"):\n",
        "       f1 = open(os.path.join('result',file),\"r\").readlines()\n",
        "       if len(f1)!=0:\n",
        "          image = cv2.imread(os.path.join('result',file[0:-4],'.jpg'))\n",
        "          f2 = open(os.path.join('train/labels',file[4:]),\"r\").readlines()\n",
        "          f3 = open(os.path.join('Preprocessing Data/Labeling with CRAFT',file[4:]),\"w\")\n",
        "          mark = np.zeros((len(f2),))\n",
        "          for i in range(len(f1)-1):\n",
        "              coordinate1 = f1[i].split(\",\")\n",
        "              coordinate1 = [int(i) for i in coordinate1]\n",
        "              IoU_max, selection = 0.0,None\n",
        "              for j in range(len(f2)-1):\n",
        "                if mark[j]==0:\n",
        "                    fence = f2[j].rfind(\",\")\n",
        "                    coordinate2 = f2[j][0:fence].split(\",\")\n",
        "                    coordinate2 = [int(i) for i in coordinate2]\n",
        "                    IoU = IOU_Calculation(coordinate1,coordinate2)\n",
        "                    if IoU > 0.0: \n",
        "                        mark[j] = 1\n",
        "                        if IoU_max<IoU : IoU_max,selection = IoU,coordinate2\n",
        "              f3.write(selection)\n",
        "          f3.close()\n",
        "          f2.close()\n",
        "          cv2.imwrite(os.path.join('Preprocessing Data/Labeling with CRAFT',file[4:],'.jpg'),image) \n",
        "       f1.close()                        \n",
        "       break"
      ],
      "execution_count": 46,
      "outputs": [
        {
          "output_type": "stream",
          "text": [
            "[359, 358, 456, 350, 461, 398, 364, 406] [211, 368, 265, 363, 279, 419, 214, 424]\n",
            "[359, 358, 456, 350, 461, 398, 364, 406] [206, 365, 263, 363, 278, 419, 215, 420]\n",
            "[359, 358, 456, 350, 461, 398, 364, 406] [209, 368, 270, 371, 276, 419, 210, 415]\n",
            "[359, 358, 456, 350, 461, 398, 364, 406] [360, 354, 427, 351, 433, 405, 357, 410]\n"
          ],
          "name": "stdout"
        },
        {
          "output_type": "error",
          "ename": "TypeError",
          "evalue": "ignored",
          "traceback": [
            "\u001b[0;31m---------------------------------------------------------------------------\u001b[0m",
            "\u001b[0;31mTypeError\u001b[0m                                 Traceback (most recent call last)",
            "\u001b[0;32m<ipython-input-46-a0ddcf4ddd4f>\u001b[0m in \u001b[0;36m<module>\u001b[0;34m()\u001b[0m\n\u001b[1;32m     23\u001b[0m                     \u001b[0mcoordinate2\u001b[0m \u001b[0;34m=\u001b[0m \u001b[0;34m[\u001b[0m\u001b[0mint\u001b[0m\u001b[0;34m(\u001b[0m\u001b[0mi\u001b[0m\u001b[0;34m)\u001b[0m \u001b[0;32mfor\u001b[0m \u001b[0mi\u001b[0m \u001b[0;32min\u001b[0m \u001b[0mcoordinate2\u001b[0m\u001b[0;34m]\u001b[0m\u001b[0;34m\u001b[0m\u001b[0;34m\u001b[0m\u001b[0m\n\u001b[1;32m     24\u001b[0m                     \u001b[0mprint\u001b[0m\u001b[0;34m(\u001b[0m\u001b[0mcoordinate1\u001b[0m\u001b[0;34m,\u001b[0m\u001b[0mcoordinate2\u001b[0m\u001b[0;34m)\u001b[0m\u001b[0;34m\u001b[0m\u001b[0;34m\u001b[0m\u001b[0m\n\u001b[0;32m---> 25\u001b[0;31m                     \u001b[0mIoU\u001b[0m \u001b[0;34m=\u001b[0m \u001b[0mIOU_Calculation\u001b[0m\u001b[0;34m(\u001b[0m\u001b[0mcoordinate1\u001b[0m\u001b[0;34m,\u001b[0m\u001b[0mcoordinate2\u001b[0m\u001b[0;34m)\u001b[0m\u001b[0;34m\u001b[0m\u001b[0;34m\u001b[0m\u001b[0m\n\u001b[0m\u001b[1;32m     26\u001b[0m                     \u001b[0;32mif\u001b[0m \u001b[0mIoU\u001b[0m \u001b[0;34m>\u001b[0m \u001b[0;36m0.0\u001b[0m\u001b[0;34m:\u001b[0m\u001b[0;34m\u001b[0m\u001b[0;34m\u001b[0m\u001b[0m\n\u001b[1;32m     27\u001b[0m                         \u001b[0mmark\u001b[0m\u001b[0;34m[\u001b[0m\u001b[0mj\u001b[0m\u001b[0;34m]\u001b[0m \u001b[0;34m=\u001b[0m \u001b[0;36m1\u001b[0m\u001b[0;34m\u001b[0m\u001b[0;34m\u001b[0m\u001b[0m\n",
            "\u001b[0;32m<ipython-input-45-d899b95bcb8c>\u001b[0m in \u001b[0;36mIOU_Calculation\u001b[0;34m(gt_bbox, training_bbox)\u001b[0m\n\u001b[1;32m     12\u001b[0m   \u001b[0mGT_bbox_area\u001b[0m \u001b[0;34m=\u001b[0m \u001b[0;34m(\u001b[0m\u001b[0mxmax_gt\u001b[0m \u001b[0;34m-\u001b[0m \u001b[0mxmin_gt\u001b[0m \u001b[0;34m+\u001b[0m \u001b[0;36m1\u001b[0m \u001b[0;34m)\u001b[0m \u001b[0;34m*\u001b[0m \u001b[0;34m(\u001b[0m\u001b[0mymax_gt\u001b[0m \u001b[0;34m-\u001b[0m \u001b[0mymin_gt\u001b[0m \u001b[0;34m+\u001b[0m \u001b[0;36m1\u001b[0m \u001b[0;34m)\u001b[0m\u001b[0;34m\u001b[0m\u001b[0;34m\u001b[0m\u001b[0m\n\u001b[1;32m     13\u001b[0m   \u001b[0mPre_bbox_area\u001b[0m \u001b[0;34m=\u001b[0m \u001b[0;34m(\u001b[0m\u001b[0mxmax\u001b[0m \u001b[0;34m-\u001b[0m \u001b[0mxmin\u001b[0m \u001b[0;34m+\u001b[0m \u001b[0;36m1\u001b[0m \u001b[0;34m)\u001b[0m \u001b[0;34m*\u001b[0m \u001b[0;34m(\u001b[0m\u001b[0mymax\u001b[0m \u001b[0;34m-\u001b[0m \u001b[0mymin\u001b[0m \u001b[0;34m+\u001b[0m \u001b[0;36m1\u001b[0m \u001b[0;34m)\u001b[0m\u001b[0;34m\u001b[0m\u001b[0;34m\u001b[0m\u001b[0m\n\u001b[0;32m---> 14\u001b[0;31m   \u001b[0mxmin\u001b[0m \u001b[0;34m=\u001b[0m \u001b[0mmax\u001b[0m\u001b[0;34m(\u001b[0m\u001b[0mxmin_gt\u001b[0m\u001b[0;34m,\u001b[0m\u001b[0mxmin\u001b[0m\u001b[0;34m)\u001b[0m\u001b[0;34m\u001b[0m\u001b[0;34m\u001b[0m\u001b[0m\n\u001b[0m\u001b[1;32m     15\u001b[0m   \u001b[0mymin\u001b[0m \u001b[0;34m=\u001b[0m \u001b[0mmax\u001b[0m\u001b[0;34m(\u001b[0m\u001b[0mymin_gt\u001b[0m\u001b[0;34m,\u001b[0m\u001b[0mymin\u001b[0m\u001b[0;34m)\u001b[0m\u001b[0;34m\u001b[0m\u001b[0;34m\u001b[0m\u001b[0m\n\u001b[1;32m     16\u001b[0m   \u001b[0mxmax\u001b[0m \u001b[0;34m=\u001b[0m \u001b[0mmin\u001b[0m\u001b[0;34m(\u001b[0m\u001b[0mxmax_gt\u001b[0m\u001b[0;34m,\u001b[0m\u001b[0mxmax\u001b[0m\u001b[0;34m)\u001b[0m\u001b[0;34m\u001b[0m\u001b[0;34m\u001b[0m\u001b[0m\n",
            "\u001b[0;31mTypeError\u001b[0m: 'float' object is not callable"
          ]
        }
      ]
    },
    {
      "cell_type": "code",
      "metadata": {
        "id": "ReDpKJw8JIi1"
      },
      "source": [
        ""
      ],
      "execution_count": null,
      "outputs": []
    }
  ]
}