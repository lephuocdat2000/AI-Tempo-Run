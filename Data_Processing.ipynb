{
  "nbformat": 4,
  "nbformat_minor": 0,
  "metadata": {
    "colab": {
      "name": "Data Processing.ipynb",
      "provenance": [],
      "authorship_tag": "ABX9TyPhrGlWSBk7IfXahH1823OO",
      "include_colab_link": true
    },
    "kernelspec": {
      "name": "python3",
      "display_name": "Python 3"
    },
    "language_info": {
      "name": "python"
    }
  },
  "cells": [
    {
      "cell_type": "markdown",
      "metadata": {
        "id": "view-in-github",
        "colab_type": "text"
      },
      "source": [
        "<a href=\"https://colab.research.google.com/github/lephuocdat2000/AI-Tempo-Run/blob/main/Data_Processing.ipynb\" target=\"_parent\"><img src=\"https://colab.research.google.com/assets/colab-badge.svg\" alt=\"Open In Colab\"/></a>"
      ]
    },
    {
      "cell_type": "code",
      "metadata": {
        "colab": {
          "base_uri": "https://localhost:8080/"
        },
        "id": "4eaPejmcxpgD",
        "outputId": "b5d85b4a-1368-4fde-e825-8eb1e45d44b9"
      },
      "source": [
        "from google.colab import drive\n",
        "drive.mount('/content/gdrive')"
      ],
      "execution_count": 1,
      "outputs": [
        {
          "output_type": "stream",
          "text": [
            "Mounted at /content/gdrive\n"
          ],
          "name": "stdout"
        }
      ]
    },
    {
      "cell_type": "code",
      "metadata": {
        "id": "-R5zshAa3Zy5"
      },
      "source": [
        "def Fixed_Coordinate(bbox):\n",
        "  bbox = np.array(bbox)\n",
        "  bbox = np.reshape(bbox,(4,2))\n",
        "  xmin,xmax = np.amin(bbox[:,0],axis = 0),np.amax(bbox[:,0],axis=0)\n",
        "  ymin,ymax = np.amin(bbox[:,1],axis=0), np.amax(bbox[:,1],axis=0)\n",
        "  return xmin,ymin,xmax,ymax\n",
        "\n",
        "def IOU_Calculation(gt_bbox,training_bbox):\n",
        "  xmin_gt,ymin_gt,xmax_gt,ymax_gt = Fixed_Coordinate(gt_bbox)\n",
        "  xmin,ymin,xmax,ymax = Fixed_Coordinate(training_bbox)\n",
        "  if (xmax_gt < xmin) or (ymax_gt<ymin) or (xmin_gt > xmax) or (ymin_gt>ymax): return 0.0\n",
        "  GT_bbox_area = (xmax_gt - xmin_gt + 1 ) * (ymax_gt - ymin_gt + 1 )\n",
        "  Pre_bbox_area = (xmax - xmin + 1 ) * (ymax - ymin + 1 )\n",
        "  xmin = max(xmin_gt,xmin)\n",
        "  ymin = max(ymin_gt,ymin)\n",
        "  xmax = min(xmax_gt,xmax)\n",
        "  ymax = min(ymax_gt,ymax)\n",
        "  intersection_area = (xmax-xmin+1)*(ymax-ymin+1)\n",
        "  union_area = GT_bbox_area + Pre_bbox_area - intersection_area\n",
        "  return intersection_area/union_area"
      ],
      "execution_count": 2,
      "outputs": []
    },
    {
      "cell_type": "code",
      "metadata": {
        "id": "F1mzPkK5Ff8H",
        "colab": {
          "base_uri": "https://localhost:8080/"
        },
        "outputId": "e47d93d3-f685-453c-a8c1-c1f24aecc30e"
      },
      "source": [
        "cd /content/gdrive/MyDrive/AITempoRun"
      ],
      "execution_count": 3,
      "outputs": [
        {
          "output_type": "stream",
          "text": [
            "/content/gdrive/MyDrive/AITempoRun\n"
          ],
          "name": "stdout"
        }
      ]
    },
    {
      "cell_type": "code",
      "metadata": {
        "id": "SHI-HjANQthP"
      },
      "source": [
        "import os\n",
        "import numpy as np\n",
        "import cv2\n",
        "import matplotlib.pyplot as plt\n",
        "\n",
        "dictionary = os.listdir('result')\n",
        "\n",
        "for file in dictionary:\n",
        "    if file.endswith(\".txt\"):\n",
        "       f1 = open(os.path.join('result',file),\"r\").readlines()\n",
        "       if len(f1)!=0:\n",
        "          image = cv2.imread(os.path.join('train/images',file[4:-4]+'.jpg'))\n",
        "          f2 = open(os.path.join('train/labels',file[4:]),\"r\").readlines()\n",
        "          f3 = open(os.path.join('Preprocessing Data/Labeling with CRAFT',file[4:]),\"w\")\n",
        "          mark = np.zeros((len(f2),))\n",
        "          for i in range(len(f1)):\n",
        "              coordinate1 = f1[i].split(\",\")\n",
        "              coordinate1 = [int(i) for i in coordinate1]\n",
        "              IoU_max, selection = 0.0,coordinate1\n",
        "              for j in range(len(f2)):\n",
        "                if mark[j]==0:\n",
        "                    fence = f2[j].rfind(\",\")\n",
        "                    coordinate2 = f2[j][0:fence].split(\",\")\n",
        "                    coordinate2 = [int(i) for i in coordinate2]\n",
        "                    IoU = IOU_Calculation(coordinate1,coordinate2)\n",
        "                    if IoU >= 0.1: \n",
        "                        mark[j] = 1\n",
        "                        if IoU_max<IoU : IoU_max,selection = IoU,coordinate2\n",
        "              string = \"\"\n",
        "              for coor in selection:\n",
        "                    string = string + str(coor) + \" \"\n",
        "              f3.writelines(string+\"\\n\")\n",
        "          f3.close()\n",
        "          cv2.imwrite(os.path.join('Preprocessing Data/images',file[4:-4]+'.jpg'),image)                       "
      ],
      "execution_count": 31,
      "outputs": []
    }
  ]
}